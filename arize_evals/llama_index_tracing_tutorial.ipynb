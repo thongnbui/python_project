{
 "cells": [
  {
   "cell_type": "markdown",
   "metadata": {
    "id": "Bu3PM8wxugiK"
   },
   "source": [
    "<center>\n",
    "    <p style=\"text-align:center\">\n",
    "        <img alt=\"phoenix logo\" src=\"https://storage.googleapis.com/arize-phoenix-assets/assets/phoenix-logo-light.svg\" width=\"200\"/>\n",
    "        <br>\n",
    "        <a href=\"https://docs.arize.com/phoenix/\">Docs</a>\n",
    "        |\n",
    "        <a href=\"https://github.com/Arize-ai/phoenix\">GitHub</a>\n",
    "        |\n",
    "        <a href=\"https://join.slack.com/t/arize-ai/shared_invite/zt-1px8dcmlf-fmThhDFD_V_48oU7ALan4Q\">Community</a>\n",
    "    </p>\n",
    "</center>\n",
    "<h1 align=\"center\">Tracing and Evaluating a LlamaIndex Application</h1>\n",
    "\n",
    "LlamaIndex provides high-level APIs that enable users to build powerful applications in a few lines of code. However, it can be challenging to understand what is going on under the hood and to pinpoint the cause of issues. Phoenix makes your LLM applications *observable* by visualizing the underlying structure of each call to your query engine and surfacing problematic `spans`` of execution based on latency, token count, or other evaluation metrics.\n",
    "\n",
    "In this tutorial, you will:\n",
    "- Build a simple query engine using LlamaIndex that uses retrieval-augmented generation to answer questions over the Arize documentation,\n",
    "- Record trace data in [OpenInference tracing](https://github.com/Arize-ai/openinference) format using the global `arize_phoenix` handler\n",
    "- Inspect the traces and spans of your application to identify sources of latency and cost,\n",
    "- Export your trace data as a pandas dataframe and run an [LLM Evals](https://docs.arize.com/phoenix/concepts/llm-evals) to measure the precision@k of the query engine's retrieval step.\n",
    "\n",
    "ℹ️ This notebook requires an OpenAI API key."
   ]
  },
  {
   "cell_type": "markdown",
   "metadata": {
    "id": "gPkOjjAzugiL"
   },
   "source": [
    "## 1. Install Dependencies and Import Libraries\n",
    "\n",
    "Install Phoenix, LlamaIndex, and OpenAI."
   ]
  },
  {
   "cell_type": "markdown",
   "metadata": {
    "id": "7L1985peugiM"
   },
   "source": [
    "Import libraries."
   ]
  },
  {
   "cell_type": "code",
   "execution_count": 1,
   "metadata": {
    "id": "3jFMVMAkugiM"
   },
   "outputs": [],
   "source": [
    "import json\n",
    "import os\n",
    "from getpass import getpass\n",
    "from urllib.request import urlopen\n",
    "\n",
    "import nest_asyncio\n",
    "import openai\n",
    "import pandas as pd\n",
    "#from gcsfs import GCSFileSystem\n",
    "from llama_index.core import (\n",
    "    Settings,\n",
    "    StorageContext,\n",
    "    load_index_from_storage,\n",
    ")\n",
    "from llama_index.embeddings.openai import OpenAIEmbedding\n",
    "from llama_index.llms.openai import OpenAI\n",
    "from tqdm import tqdm\n",
    "\n",
    "import phoenix as px\n",
    "from phoenix.evals import (\n",
    "    HallucinationEvaluator,\n",
    "    OpenAIModel,\n",
    "    QAEvaluator,\n",
    "    RelevanceEvaluator,\n",
    "    run_evals,\n",
    ")\n",
    "from phoenix.session.evaluation import get_qa_with_reference, get_retrieved_documents\n",
    "from phoenix.trace import DocumentEvaluations, SpanEvaluations\n",
    "\n",
    "nest_asyncio.apply()  # needed for concurrent evals in notebook environments\n",
    "pd.set_option(\"display.max_colwidth\", 1000)"
   ]
  },
  {
   "cell_type": "markdown",
   "metadata": {
    "id": "kQ6caZ_7ugiM"
   },
   "source": [
    "## 2. Launch Phoenix\n",
    "\n",
    "You can run Phoenix in the background to collect trace data emitted by any LlamaIndex application that has been instrumented with the `OpenInferenceTraceCallbackHandler`. Phoenix supports LlamaIndex's [one-click observability](https://gpt-index.readthedocs.io/en/latest/end_to_end_tutorials/one_click_observability.html) which will automatically instrument your LlamaIndex application! You can consult our [integration guide](https://docs.arize.com/phoenix/integrations/llamaindex) for a more detailed explanation of how to instrument your LlamaIndex application.\n",
    "\n",
    "Launch Phoenix and follow the instructions in the cell output to open the Phoenix UI (the UI should be empty because we have yet to run the LlamaIndex application)."
   ]
  },
  {
   "cell_type": "markdown",
   "metadata": {
    "id": "sNCkwO0LugiM"
   },
   "source": [
    "(session := px.launch_app()).view()"
   ]
  },
  {
   "cell_type": "markdown",
   "metadata": {
    "id": "l81EJYLLugiM"
   },
   "source": [
    "## 3. Configure Your OpenAI API Key\n",
    "\n",
    "Set your OpenAI API key if it is not already set as an environment variable."
   ]
  },
  {
   "cell_type": "markdown",
   "metadata": {
    "id": "pELn23kMugiM"
   },
   "source": [
    "if not (openai_api_key := os.getenv(\"OPENAI_API_KEY\")):\n",
    "    openai_api_key = getpass(\"🔑 Enter your OpenAI API key: \")\n",
    "openai.api_key = openai_api_key\n",
    "os.environ[\"OPENAI_API_KEY\"] = openai_api_key"
   ]
  },
  {
   "cell_type": "markdown",
   "metadata": {
    "id": "vLwx-mX1ugiN"
   },
   "source": [
    "## 4. Build Your LlamaIndex Application"
   ]
  },
  {
   "cell_type": "markdown",
   "metadata": {
    "id": "hBqpOWhYugiN"
   },
   "source": [
    "This example uses a `RetrieverQueryEngine` over a pre-built index of the Arize documentation, but you can use whatever LlamaIndex application you like.\n",
    "\n",
    "Download our pre-built index of the Arize docs from cloud storage and instantiate your storage context."
   ]
  },
  {
   "cell_type": "markdown",
   "metadata": {
    "id": "zy52npijugiN"
   },
   "source": [
    "file_system = GCSFileSystem(project=\"public-assets-275721\")\n",
    "index_path = \"arize-phoenix-assets/datasets/unstructured/llm/llama-index/arize-docs/index/\"\n",
    "storage_context = StorageContext.from_defaults(\n",
    "    fs=file_system,\n",
    "    persist_dir=index_path,\n",
    ")"
   ]
  },
  {
   "cell_type": "markdown",
   "metadata": {
    "id": "gMoJ_XCYugiN"
   },
   "source": [
    "Enable Phoenix tracing via `LlamaIndexInstrumentor`. Phoenix uses OpenInference traces - an open-source standard for capturing and storing LLM application traces that enables LLM applications to seamlessly integrate with LLM observability solutions such as Phoenix."
   ]
  },
  {
   "cell_type": "markdown",
   "metadata": {
    "id": "St7mN4uhugiN"
   },
   "source": [
    "from openinference.instrumentation.llama_index import LlamaIndexInstrumentor\n",
    "\n",
    "from phoenix.otel import register\n",
    "\n",
    "tracer_provider = register(endpoint=\"http://127.0.0.1:6006/v1/traces\")\n",
    "LlamaIndexInstrumentor().instrument(skip_dep_check=True, tracer_provider=tracer_provider)"
   ]
  },
  {
   "cell_type": "markdown",
   "metadata": {
    "id": "1npzLbUiugiN"
   },
   "source": [
    "We are now ready to instantiate our query engine that will perform retrieval-augmented generation (RAG). Query engine is a generic interface in LlamaIndex that allows you to ask question over your data. A query engine takes in a natural language query, and returns a rich response. It is built on top of Retrievers. You can compose multiple query engines to achieve more advanced capability  "
   ]
  },
  {
   "cell_type": "markdown",
   "metadata": {
    "id": "xvm_qNDougiN"
   },
   "source": [
    "Settings.llm = OpenAI(model=\"gpt-4o\")\n",
    "Settings.embed_model = OpenAIEmbedding(model=\"text-embedding-ada-002\")\n",
    "index = load_index_from_storage(\n",
    "    storage_context,\n",
    ")\n",
    "query_engine = index.as_query_engine()"
   ]
  },
  {
   "cell_type": "markdown",
   "metadata": {
    "id": "a54okSvMugiN"
   },
   "source": [
    "## 5. Run Your Query Engine and View Your Traces in Phoenix\n",
    "\n",
    "We've compiled a list of commonly asked questions about Arize. Let's download the sample queries and take a look."
   ]
  },
  {
   "cell_type": "markdown",
   "metadata": {
    "id": "tjlmuDL_ugiN"
   },
   "source": [
    "queries_url = \"http://storage.googleapis.com/arize-phoenix-assets/datasets/unstructured/llm/context-retrieval/arize_docs_queries.jsonl\"\n",
    "queries = []\n",
    "with urlopen(queries_url) as response:\n",
    "    for line in response:\n",
    "        line = line.decode(\"utf-8\").strip()\n",
    "        data = json.loads(line)\n",
    "        queries.append(data[\"query\"])\n",
    "queries[:5]"
   ]
  },
  {
   "cell_type": "markdown",
   "metadata": {
    "id": "zvK5wbf1ugiN"
   },
   "source": [
    "Let's run the first 10 queries and view the traces in Phoenix."
   ]
  },
  {
   "cell_type": "markdown",
   "metadata": {
    "id": "2MLOESP2ugiN"
   },
   "source": [
    "for query in tqdm(queries[:5]):\n",
    "    query_engine.query(query)"
   ]
  },
  {
   "cell_type": "markdown",
   "metadata": {
    "id": "FP1lOYLrugiN"
   },
   "source": [
    "And just for fun, ask your own question!"
   ]
  },
  {
   "cell_type": "markdown",
   "metadata": {
    "id": "4mdJ4_clugiN"
   },
   "source": [
    "response = query_engine.query(\"What is Arize and how can it help me as an AI Engineer?\")\n",
    "print(response)"
   ]
  },
  {
   "cell_type": "markdown",
   "metadata": {
    "id": "pbCPN-eYugiN"
   },
   "source": [
    "Check the Phoenix UI as your queries run. Your traces should appear in real time.\n",
    "\n",
    "Open the Phoenix UI with the link below if you haven't already and click through the queries to better understand how the query engine is performing. For each trace you will see a break\n",
    "\n",
    "Phoenix can be used to understand and troubleshoot your by surfacing:\n",
    " - **Application latency** - highlighting slow invocations of LLMs, Retrievers, etc.\n",
    " - **Token Usage** - Displays the breakdown of token usage with LLMs to surface up your most expensive LLM calls\n",
    " - **Runtime Exceptions** - Critical runtime exceptions such as rate-limiting are captured as exception events.\n",
    " - **Retrieved Documents** - view all the documents retrieved during a retriever call and the score and order in which they were returned\n",
    " - **Embeddings** - view the embedding text used for retrieval and the underlying embedding model\n",
    "LLM Parameters - view the parameters used when calling out to an LLM to debug things like temperature and the system prompts\n",
    " - **Prompt Templates** - Figure out what prompt template is used during the prompting step and what variables were used.\n",
    " - **Tool Descriptions** - view the description and function signature of the tools your LLM has been given access to\n",
    " - **LLM Function Calls** - if using OpenAI or other a model with function calls, you can view the function selection and function messages in the input messages to the LLM.\n",
    "\n",
    "<img src=\"https://storage.googleapis.com/arize-phoenix-assets/assets/images/RAG_trace_details.png\" alt=\"Trace Details View on Phoenix\" style=\"width:100%; height:auto;\">"
   ]
  },
  {
   "cell_type": "markdown",
   "metadata": {
    "id": "-JqK8uajugiN"
   },
   "source": [
    "print(f\"🚀 Open the Phoenix UI if you haven't already: {session.url}\")"
   ]
  },
  {
   "cell_type": "markdown",
   "metadata": {
    "id": "BpkqXdZougiN"
   },
   "source": [
    "## 6. Export and Evaluate Your Trace Data\n",
    "\n",
    "You can export your trace data as a pandas dataframe for further analysis and evaluation.\n",
    "\n",
    "In this case, we will export our `retriever` spans into two separate dataframes:\n",
    "- `queries_df`, in which the retrieved documents for each query are concatenated into a single column,\n",
    "- `retrieved_documents_df`, in which each retrieved document is \"exploded\" into its own row to enable the evaluation of each query-document pair in isolation.\n",
    "\n",
    "This will enable us to compute multiple kinds of evaluations, including:\n",
    "- relevance: Are the retrieved documents grounded in the response?\n",
    "- Q&A correctness: Are your application's responses grounded in the retrieved context?\n",
    "- hallucinations: Is your application making up false information?"
   ]
  },
  {
   "cell_type": "code",
   "execution_count": 2,
   "metadata": {},
   "outputs": [
    {
     "name": "stderr",
     "output_type": "stream",
     "text": [
      "/Users/thongbuiwork/sondermind/assistant-platform-service/venv/lib/python3.11/site-packages/phoenix/utilities/client.py:60: UserWarning: The Phoenix server (8.19.0) and client (8.20.0) versions are mismatched and may have compatibility issues.\n",
      "  warnings.warn(\n"
     ]
    },
    {
     "data": {
      "text/plain": [
       "<phoenix.session.client.Client at 0x292a5fa90>"
      ]
     },
     "execution_count": 2,
     "metadata": {},
     "output_type": "execute_result"
    }
   ],
   "source": [
    "from utils import (\n",
    "    get_phoenix_endpoint,\n",
    "    process_messages,\n",
    "    run_agent,\n",
    "    tools,\n",
    "    update_sql_gen_prompt,\n",
    ")\n",
    "px.Client()"
   ]
  },
  {
   "cell_type": "code",
   "execution_count": 3,
   "metadata": {},
   "outputs": [
    {
     "name": "stdout",
     "output_type": "stream",
     "text": [
      "Help on function get_retrieved_documents in module phoenix.trace.dsl.helpers:\n",
      "\n",
      "get_retrieved_documents(obj: phoenix.trace.dsl.helpers.CanQuerySpans, start_time: Optional[datetime.datetime] = None, end_time: Optional[datetime.datetime] = None, project_name: Optional[str] = None, stop_time: Optional[datetime.datetime] = None, timeout: Optional[int] = 5) -> pandas.core.frame.DataFrame\n",
      "\n"
     ]
    }
   ],
   "source": [
    "help(get_retrieved_documents)"
   ]
  },
  {
   "cell_type": "code",
   "execution_count": 4,
   "metadata": {
    "id": "s2wj3Gq0ugiN"
   },
   "outputs": [
    {
     "data": {
      "text/html": [
       "<div>\n",
       "<style scoped>\n",
       "    .dataframe tbody tr th:only-of-type {\n",
       "        vertical-align: middle;\n",
       "    }\n",
       "\n",
       "    .dataframe tbody tr th {\n",
       "        vertical-align: top;\n",
       "    }\n",
       "\n",
       "    .dataframe thead th {\n",
       "        text-align: right;\n",
       "    }\n",
       "</style>\n",
       "<table border=\"1\" class=\"dataframe\">\n",
       "  <thead>\n",
       "    <tr style=\"text-align: right;\">\n",
       "      <th></th>\n",
       "      <th>input</th>\n",
       "      <th>output</th>\n",
       "      <th>reference</th>\n",
       "    </tr>\n",
       "    <tr>\n",
       "      <th>context.span_id</th>\n",
       "      <th></th>\n",
       "      <th></th>\n",
       "      <th></th>\n",
       "    </tr>\n",
       "  </thead>\n",
       "  <tbody>\n",
       "    <tr>\n",
       "      <th>1b63b8bf6829fb03</th>\n",
       "      <td>what have i mentioned in recent reflections?</td>\n",
       "      <td>{\\n  \"type\": \"text\",\\n  \"message\": \"Recently, you've mentioned feeling stressed, especially related to work, and not feeling well. It's great that you're seeking support. Is there anything specific you'd like to focus on in your first session?\"\\n}</td>\n",
       "      <td>Context: A user named Sol is expressing their feelings of stress and seeking support from the assistant.\\n\\nContent: User: I am not feeling good today\\nAssistant: {\\n  \"type\": \"text\",\\n  \"message\": \"I'm sorry to hear that you're not feeling good today, Sol. Would you like to talk about what's been bothering you? I'm here to listen.\"\\n}\\nUser: Sure\\nAssistant: {\\n  \"type\": \"text\",\\n  \"message\": \"Thank you for sharing, Sol. What's been on your mind lately? I'm here to help you work through it.\"\\n}\\nUser: Things have been so stressful at work today. And that's all I want to share today. Thanks\\nAssistant: {\\n  \"type\": \"completed\",\\n  \"message\": \"Thank you for sharing that with me, Sol. It's completely okay to take things one step at a time. If you ever want to talk more or need support, I'm here for you. Take care!\"\\n}\\n\\nContext: A user named Sol expresses feeling unwell and shares that work has been stressful, while the assistant offers support and a listening ear.\\n\\nContent: User:...</td>\n",
       "    </tr>\n",
       "    <tr>\n",
       "      <th>2149c5eaa0a59e6c</th>\n",
       "      <td>what have i mentioned in recent reflections?</td>\n",
       "      <td>{\\n  \"type\": \"text\",\\n  \"message\": \"Recently, you've mentioned feeling stressed, especially related to work, and not feeling well. It's great that you're seeking support. Is there anything specific you'd like to focus on in your first session?\"\\n}</td>\n",
       "      <td>Context: A user named Sol is expressing their feelings of stress and seeking support from the assistant.\\n\\nContent: User: I am not feeling good today\\nAssistant: {\\n  \"type\": \"text\",\\n  \"message\": \"I'm sorry to hear that you're not feeling good today, Sol. Would you like to talk about what's been bothering you? I'm here to listen.\"\\n}\\nUser: Sure\\nAssistant: {\\n  \"type\": \"text\",\\n  \"message\": \"Thank you for sharing, Sol. What's been on your mind lately? I'm here to help you work through it.\"\\n}\\nUser: Things have been so stressful at work today. And that's all I want to share today. Thanks\\nAssistant: {\\n  \"type\": \"completed\",\\n  \"message\": \"Thank you for sharing that with me, Sol. It's completely okay to take things one step at a time. If you ever want to talk more or need support, I'm here for you. Take care!\"\\n}\\n\\nContext: A user named Sol expresses feeling unwell and shares that work has been stressful, while the assistant offers support and a listening ear.\\n\\nContent: User:...</td>\n",
       "    </tr>\n",
       "    <tr>\n",
       "      <th>98fee675909b4751</th>\n",
       "      <td>what have i mentioned in recent reflections?</td>\n",
       "      <td>{\\n  \"type\": \"text\",\\n  \"message\": \"Recently, you've mentioned feeling stressed, especially related to work, and not feeling well. It's great that you're seeking support. Is there anything specific you'd like to focus on in your first session?\"\\n}</td>\n",
       "      <td>Context: A user named Sol is expressing their feelings of stress and seeking support from the assistant.\\n\\nContent: User: I am not feeling good today\\nAssistant: {\\n  \"type\": \"text\",\\n  \"message\": \"I'm sorry to hear that you're not feeling good today, Sol. Would you like to talk about what's been bothering you? I'm here to listen.\"\\n}\\nUser: Sure\\nAssistant: {\\n  \"type\": \"text\",\\n  \"message\": \"Thank you for sharing, Sol. What's been on your mind lately? I'm here to help you work through it.\"\\n}\\nUser: Things have been so stressful at work today. And that's all I want to share today. Thanks\\nAssistant: {\\n  \"type\": \"completed\",\\n  \"message\": \"Thank you for sharing that with me, Sol. It's completely okay to take things one step at a time. If you ever want to talk more or need support, I'm here for you. Take care!\"\\n}\\n\\nContext: A user named Sol expresses feeling unwell and shares that work has been stressful, while the assistant offers support and a listening ear.\\n\\nContent: User:...</td>\n",
       "    </tr>\n",
       "  </tbody>\n",
       "</table>\n",
       "</div>"
      ],
      "text/plain": [
       "                                                         input  \\\n",
       "context.span_id                                                  \n",
       "1b63b8bf6829fb03  what have i mentioned in recent reflections?   \n",
       "2149c5eaa0a59e6c  what have i mentioned in recent reflections?   \n",
       "98fee675909b4751  what have i mentioned in recent reflections?   \n",
       "\n",
       "                                                                                                                                                                                                                                                                   output  \\\n",
       "context.span_id                                                                                                                                                                                                                                                             \n",
       "1b63b8bf6829fb03  {\\n  \"type\": \"text\",\\n  \"message\": \"Recently, you've mentioned feeling stressed, especially related to work, and not feeling well. It's great that you're seeking support. Is there anything specific you'd like to focus on in your first session?\"\\n}   \n",
       "2149c5eaa0a59e6c  {\\n  \"type\": \"text\",\\n  \"message\": \"Recently, you've mentioned feeling stressed, especially related to work, and not feeling well. It's great that you're seeking support. Is there anything specific you'd like to focus on in your first session?\"\\n}   \n",
       "98fee675909b4751  {\\n  \"type\": \"text\",\\n  \"message\": \"Recently, you've mentioned feeling stressed, especially related to work, and not feeling well. It's great that you're seeking support. Is there anything specific you'd like to focus on in your first session?\"\\n}   \n",
       "\n",
       "                                                                                                                                                                                                                                                                                                                                                                                                                                                                                                                                                                                                                                                                                                                                                                                                                                                                                                                                                                                                                                                reference  \n",
       "context.span_id                                                                                                                                                                                                                                                                                                                                                                                                                                                                                                                                                                                                                                                                                                                                                                                                                                                                                                                                                                                                                                            \n",
       "1b63b8bf6829fb03  Context: A user named Sol is expressing their feelings of stress and seeking support from the assistant.\\n\\nContent: User: I am not feeling good today\\nAssistant: {\\n  \"type\": \"text\",\\n  \"message\": \"I'm sorry to hear that you're not feeling good today, Sol. Would you like to talk about what's been bothering you? I'm here to listen.\"\\n}\\nUser: Sure\\nAssistant: {\\n  \"type\": \"text\",\\n  \"message\": \"Thank you for sharing, Sol. What's been on your mind lately? I'm here to help you work through it.\"\\n}\\nUser: Things have been so stressful at work today. And that's all I want to share today. Thanks\\nAssistant: {\\n  \"type\": \"completed\",\\n  \"message\": \"Thank you for sharing that with me, Sol. It's completely okay to take things one step at a time. If you ever want to talk more or need support, I'm here for you. Take care!\"\\n}\\n\\nContext: A user named Sol expresses feeling unwell and shares that work has been stressful, while the assistant offers support and a listening ear.\\n\\nContent: User:...  \n",
       "2149c5eaa0a59e6c  Context: A user named Sol is expressing their feelings of stress and seeking support from the assistant.\\n\\nContent: User: I am not feeling good today\\nAssistant: {\\n  \"type\": \"text\",\\n  \"message\": \"I'm sorry to hear that you're not feeling good today, Sol. Would you like to talk about what's been bothering you? I'm here to listen.\"\\n}\\nUser: Sure\\nAssistant: {\\n  \"type\": \"text\",\\n  \"message\": \"Thank you for sharing, Sol. What's been on your mind lately? I'm here to help you work through it.\"\\n}\\nUser: Things have been so stressful at work today. And that's all I want to share today. Thanks\\nAssistant: {\\n  \"type\": \"completed\",\\n  \"message\": \"Thank you for sharing that with me, Sol. It's completely okay to take things one step at a time. If you ever want to talk more or need support, I'm here for you. Take care!\"\\n}\\n\\nContext: A user named Sol expresses feeling unwell and shares that work has been stressful, while the assistant offers support and a listening ear.\\n\\nContent: User:...  \n",
       "98fee675909b4751  Context: A user named Sol is expressing their feelings of stress and seeking support from the assistant.\\n\\nContent: User: I am not feeling good today\\nAssistant: {\\n  \"type\": \"text\",\\n  \"message\": \"I'm sorry to hear that you're not feeling good today, Sol. Would you like to talk about what's been bothering you? I'm here to listen.\"\\n}\\nUser: Sure\\nAssistant: {\\n  \"type\": \"text\",\\n  \"message\": \"Thank you for sharing, Sol. What's been on your mind lately? I'm here to help you work through it.\"\\n}\\nUser: Things have been so stressful at work today. And that's all I want to share today. Thanks\\nAssistant: {\\n  \"type\": \"completed\",\\n  \"message\": \"Thank you for sharing that with me, Sol. It's completely okay to take things one step at a time. If you ever want to talk more or need support, I'm here for you. Take care!\"\\n}\\n\\nContext: A user named Sol expresses feeling unwell and shares that work has been stressful, while the assistant offers support and a listening ear.\\n\\nContent: User:...  "
      ]
     },
     "execution_count": 4,
     "metadata": {},
     "output_type": "execute_result"
    }
   ],
   "source": [
    "queries_df = get_qa_with_reference(px.Client(), project_name='appointment_prep_agent')\n",
    "queries_df"
   ]
  },
  {
   "cell_type": "code",
   "execution_count": 5,
   "metadata": {},
   "outputs": [
    {
     "name": "stderr",
     "output_type": "stream",
     "text": [
      "/Users/thongbuiwork/sondermind/assistant-platform-service/venv/lib/python3.11/site-packages/phoenix/utilities/client.py:60: UserWarning: The Phoenix server (8.19.0) and client (8.20.0) versions are mismatched and may have compatibility issues.\n",
      "  warnings.warn(\n"
     ]
    },
    {
     "data": {
      "text/html": [
       "<div>\n",
       "<style scoped>\n",
       "    .dataframe tbody tr th:only-of-type {\n",
       "        vertical-align: middle;\n",
       "    }\n",
       "\n",
       "    .dataframe tbody tr th {\n",
       "        vertical-align: top;\n",
       "    }\n",
       "\n",
       "    .dataframe thead th {\n",
       "        text-align: right;\n",
       "    }\n",
       "</style>\n",
       "<table border=\"1\" class=\"dataframe\">\n",
       "  <thead>\n",
       "    <tr style=\"text-align: right;\">\n",
       "      <th></th>\n",
       "      <th></th>\n",
       "      <th>context.trace_id</th>\n",
       "      <th>input</th>\n",
       "      <th>reference</th>\n",
       "      <th>document_score</th>\n",
       "    </tr>\n",
       "    <tr>\n",
       "      <th>context.span_id</th>\n",
       "      <th>document_position</th>\n",
       "      <th></th>\n",
       "      <th></th>\n",
       "      <th></th>\n",
       "      <th></th>\n",
       "    </tr>\n",
       "  </thead>\n",
       "  <tbody>\n",
       "    <tr>\n",
       "      <th rowspan=\"3\" valign=\"top\">b2c21623c8b7e944</th>\n",
       "      <th>0</th>\n",
       "      <td>c8c59f449e47cd513016b84ba0383a72</td>\n",
       "      <td>recent reflections</td>\n",
       "      <td>Context: A user named Sol is expressing their feelings of stress and seeking support from the assistant.\\n\\nContent: User: I am not feeling good today\\nAssistant: {\\n  \"type\": \"text\",\\n  \"message\": \"I'm sorry to hear that you're not feeling good today, Sol. Would you like to talk about what's been bothering you? I'm here to listen.\"\\n}\\nUser: Sure\\nAssistant: {\\n  \"type\": \"text\",\\n  \"message\": \"Thank you for sharing, Sol. What's been on your mind lately? I'm here to help you work through it.\"\\n}\\nUser: Things have been so stressful at work today. And that's all I want to share today. Thanks\\nAssistant: {\\n  \"type\": \"completed\",\\n  \"message\": \"Thank you for sharing that with me, Sol. It's completely okay to take things one step at a time. If you ever want to talk more or need support, I'm here for you. Take care!\"\\n}</td>\n",
       "      <td>0.202546</td>\n",
       "    </tr>\n",
       "    <tr>\n",
       "      <th>1</th>\n",
       "      <td>c8c59f449e47cd513016b84ba0383a72</td>\n",
       "      <td>recent reflections</td>\n",
       "      <td>Context: A user named Sol expresses feeling unwell and shares that work has been stressful, while the assistant offers support and a listening ear.\\n\\nContent: User: I am not feeling good today\\nAssistant: {\\n  \"type\": \"text\",\\n  \"message\": \"I'm sorry to hear that you're not feeling good today, Sol. Would you like to talk about what's been bothering you? I'm here to listen.\"\\n}\\nUser: Sure\\nAssistant: {\\n  \"type\": \"text\",\\n  \"message\": \"Thank you for sharing, Sol. What's been on your mind lately? I'm here to help you work through it.\"\\n}\\nUser: Things have been so stressful at work today. And that's all I want to share today. Thanks\\nAssistant: {\\n  \"type\": \"completed\",\\n  \"message\": \"Thank you for sharing that with me, Sol. It's completely okay to take things one step at a time. If you ever want to talk more or need support, I'm here for you. Take care!\"\\n}</td>\n",
       "      <td>0.201367</td>\n",
       "    </tr>\n",
       "    <tr>\n",
       "      <th>2</th>\n",
       "      <td>c8c59f449e47cd513016b84ba0383a72</td>\n",
       "      <td>recent reflections</td>\n",
       "      <td>Context: A user named Sol initiates a conversation with the assistant, expressing that they are not feeling well, and the assistant responds with empathy and offers to listen.\\n\\nContent: User: Hello\\nAssistant: {\\n  \"type\": \"text\",\\n  \"message\": \"Hi Sol! How are you feeling today? I'm here to listen if there's anything on your mind.\"\\n}\\nUser: Hello. I am not feeling good today\\nAssistant: {\\n  \"type\": \"text\",\\n  \"message\": \"I'm sorry to hear that you're not feeling good today, Sol. Would you like to talk about what's been bothering you? I'm here to listen.\"\\n}</td>\n",
       "      <td>0.123959</td>\n",
       "    </tr>\n",
       "    <tr>\n",
       "      <th rowspan=\"3\" valign=\"top\">d7ff722c64a68cfe</th>\n",
       "      <th>0</th>\n",
       "      <td>f5a61dc5ed2ed220e0af69ce30e6b6cd</td>\n",
       "      <td>recent reflections</td>\n",
       "      <td>Context: A user named Sol is expressing their feelings of stress and seeking support from the assistant.\\n\\nContent: User: I am not feeling good today\\nAssistant: {\\n  \"type\": \"text\",\\n  \"message\": \"I'm sorry to hear that you're not feeling good today, Sol. Would you like to talk about what's been bothering you? I'm here to listen.\"\\n}\\nUser: Sure\\nAssistant: {\\n  \"type\": \"text\",\\n  \"message\": \"Thank you for sharing, Sol. What's been on your mind lately? I'm here to help you work through it.\"\\n}\\nUser: Things have been so stressful at work today. And that's all I want to share today. Thanks\\nAssistant: {\\n  \"type\": \"completed\",\\n  \"message\": \"Thank you for sharing that with me, Sol. It's completely okay to take things one step at a time. If you ever want to talk more or need support, I'm here for you. Take care!\"\\n}</td>\n",
       "      <td>0.202546</td>\n",
       "    </tr>\n",
       "    <tr>\n",
       "      <th>1</th>\n",
       "      <td>f5a61dc5ed2ed220e0af69ce30e6b6cd</td>\n",
       "      <td>recent reflections</td>\n",
       "      <td>Context: A user named Sol expresses feeling unwell and shares that work has been stressful, while the assistant offers support and a listening ear.\\n\\nContent: User: I am not feeling good today\\nAssistant: {\\n  \"type\": \"text\",\\n  \"message\": \"I'm sorry to hear that you're not feeling good today, Sol. Would you like to talk about what's been bothering you? I'm here to listen.\"\\n}\\nUser: Sure\\nAssistant: {\\n  \"type\": \"text\",\\n  \"message\": \"Thank you for sharing, Sol. What's been on your mind lately? I'm here to help you work through it.\"\\n}\\nUser: Things have been so stressful at work today. And that's all I want to share today. Thanks\\nAssistant: {\\n  \"type\": \"completed\",\\n  \"message\": \"Thank you for sharing that with me, Sol. It's completely okay to take things one step at a time. If you ever want to talk more or need support, I'm here for you. Take care!\"\\n}</td>\n",
       "      <td>0.201367</td>\n",
       "    </tr>\n",
       "    <tr>\n",
       "      <th>2</th>\n",
       "      <td>f5a61dc5ed2ed220e0af69ce30e6b6cd</td>\n",
       "      <td>recent reflections</td>\n",
       "      <td>Context: A user named Sol initiates a conversation with the assistant, expressing that they are not feeling well, and the assistant responds with empathy and offers to listen.\\n\\nContent: User: Hello\\nAssistant: {\\n  \"type\": \"text\",\\n  \"message\": \"Hi Sol! How are you feeling today? I'm here to listen if there's anything on your mind.\"\\n}\\nUser: Hello. I am not feeling good today\\nAssistant: {\\n  \"type\": \"text\",\\n  \"message\": \"I'm sorry to hear that you're not feeling good today, Sol. Would you like to talk about what's been bothering you? I'm here to listen.\"\\n}</td>\n",
       "      <td>0.123959</td>\n",
       "    </tr>\n",
       "    <tr>\n",
       "      <th rowspan=\"3\" valign=\"top\">b9d8b6bc25c9217c</th>\n",
       "      <th>0</th>\n",
       "      <td>d5b2cfe0cdcbf588c8788c3e0259a8bf</td>\n",
       "      <td>recent reflections</td>\n",
       "      <td>Context: A user named Sol is expressing their feelings of stress and seeking support from the assistant.\\n\\nContent: User: I am not feeling good today\\nAssistant: {\\n  \"type\": \"text\",\\n  \"message\": \"I'm sorry to hear that you're not feeling good today, Sol. Would you like to talk about what's been bothering you? I'm here to listen.\"\\n}\\nUser: Sure\\nAssistant: {\\n  \"type\": \"text\",\\n  \"message\": \"Thank you for sharing, Sol. What's been on your mind lately? I'm here to help you work through it.\"\\n}\\nUser: Things have been so stressful at work today. And that's all I want to share today. Thanks\\nAssistant: {\\n  \"type\": \"completed\",\\n  \"message\": \"Thank you for sharing that with me, Sol. It's completely okay to take things one step at a time. If you ever want to talk more or need support, I'm here for you. Take care!\"\\n}</td>\n",
       "      <td>0.202546</td>\n",
       "    </tr>\n",
       "    <tr>\n",
       "      <th>1</th>\n",
       "      <td>d5b2cfe0cdcbf588c8788c3e0259a8bf</td>\n",
       "      <td>recent reflections</td>\n",
       "      <td>Context: A user named Sol expresses feeling unwell and shares that work has been stressful, while the assistant offers support and a listening ear.\\n\\nContent: User: I am not feeling good today\\nAssistant: {\\n  \"type\": \"text\",\\n  \"message\": \"I'm sorry to hear that you're not feeling good today, Sol. Would you like to talk about what's been bothering you? I'm here to listen.\"\\n}\\nUser: Sure\\nAssistant: {\\n  \"type\": \"text\",\\n  \"message\": \"Thank you for sharing, Sol. What's been on your mind lately? I'm here to help you work through it.\"\\n}\\nUser: Things have been so stressful at work today. And that's all I want to share today. Thanks\\nAssistant: {\\n  \"type\": \"completed\",\\n  \"message\": \"Thank you for sharing that with me, Sol. It's completely okay to take things one step at a time. If you ever want to talk more or need support, I'm here for you. Take care!\"\\n}</td>\n",
       "      <td>0.201367</td>\n",
       "    </tr>\n",
       "    <tr>\n",
       "      <th>2</th>\n",
       "      <td>d5b2cfe0cdcbf588c8788c3e0259a8bf</td>\n",
       "      <td>recent reflections</td>\n",
       "      <td>Context: A user named Sol initiates a conversation with the assistant, expressing that they are not feeling well, and the assistant responds with empathy and offers to listen.\\n\\nContent: User: Hello\\nAssistant: {\\n  \"type\": \"text\",\\n  \"message\": \"Hi Sol! How are you feeling today? I'm here to listen if there's anything on your mind.\"\\n}\\nUser: Hello. I am not feeling good today\\nAssistant: {\\n  \"type\": \"text\",\\n  \"message\": \"I'm sorry to hear that you're not feeling good today, Sol. Would you like to talk about what's been bothering you? I'm here to listen.\"\\n}</td>\n",
       "      <td>0.123959</td>\n",
       "    </tr>\n",
       "  </tbody>\n",
       "</table>\n",
       "</div>"
      ],
      "text/plain": [
       "                                                    context.trace_id  \\\n",
       "context.span_id  document_position                                     \n",
       "b2c21623c8b7e944 0                  c8c59f449e47cd513016b84ba0383a72   \n",
       "                 1                  c8c59f449e47cd513016b84ba0383a72   \n",
       "                 2                  c8c59f449e47cd513016b84ba0383a72   \n",
       "d7ff722c64a68cfe 0                  f5a61dc5ed2ed220e0af69ce30e6b6cd   \n",
       "                 1                  f5a61dc5ed2ed220e0af69ce30e6b6cd   \n",
       "                 2                  f5a61dc5ed2ed220e0af69ce30e6b6cd   \n",
       "b9d8b6bc25c9217c 0                  d5b2cfe0cdcbf588c8788c3e0259a8bf   \n",
       "                 1                  d5b2cfe0cdcbf588c8788c3e0259a8bf   \n",
       "                 2                  d5b2cfe0cdcbf588c8788c3e0259a8bf   \n",
       "\n",
       "                                                 input  \\\n",
       "context.span_id  document_position                       \n",
       "b2c21623c8b7e944 0                  recent reflections   \n",
       "                 1                  recent reflections   \n",
       "                 2                  recent reflections   \n",
       "d7ff722c64a68cfe 0                  recent reflections   \n",
       "                 1                  recent reflections   \n",
       "                 2                  recent reflections   \n",
       "b9d8b6bc25c9217c 0                  recent reflections   \n",
       "                 1                  recent reflections   \n",
       "                 2                  recent reflections   \n",
       "\n",
       "                                                                                                                                                                                                                                                                                                                                                                                                                                                                                                                                                                                                                                                                                                                                                                                                                                                                                                                                 reference  \\\n",
       "context.span_id  document_position                                                                                                                                                                                                                                                                                                                                                                                                                                                                                                                                                                                                                                                                                                                                                                                                                                                                                                           \n",
       "b2c21623c8b7e944 0                                                             Context: A user named Sol is expressing their feelings of stress and seeking support from the assistant.\\n\\nContent: User: I am not feeling good today\\nAssistant: {\\n  \"type\": \"text\",\\n  \"message\": \"I'm sorry to hear that you're not feeling good today, Sol. Would you like to talk about what's been bothering you? I'm here to listen.\"\\n}\\nUser: Sure\\nAssistant: {\\n  \"type\": \"text\",\\n  \"message\": \"Thank you for sharing, Sol. What's been on your mind lately? I'm here to help you work through it.\"\\n}\\nUser: Things have been so stressful at work today. And that's all I want to share today. Thanks\\nAssistant: {\\n  \"type\": \"completed\",\\n  \"message\": \"Thank you for sharing that with me, Sol. It's completely okay to take things one step at a time. If you ever want to talk more or need support, I'm here for you. Take care!\"\\n}   \n",
       "                 1                  Context: A user named Sol expresses feeling unwell and shares that work has been stressful, while the assistant offers support and a listening ear.\\n\\nContent: User: I am not feeling good today\\nAssistant: {\\n  \"type\": \"text\",\\n  \"message\": \"I'm sorry to hear that you're not feeling good today, Sol. Would you like to talk about what's been bothering you? I'm here to listen.\"\\n}\\nUser: Sure\\nAssistant: {\\n  \"type\": \"text\",\\n  \"message\": \"Thank you for sharing, Sol. What's been on your mind lately? I'm here to help you work through it.\"\\n}\\nUser: Things have been so stressful at work today. And that's all I want to share today. Thanks\\nAssistant: {\\n  \"type\": \"completed\",\\n  \"message\": \"Thank you for sharing that with me, Sol. It's completely okay to take things one step at a time. If you ever want to talk more or need support, I'm here for you. Take care!\"\\n}   \n",
       "                 2                                                                                                                                                                                                                                                                                                                                Context: A user named Sol initiates a conversation with the assistant, expressing that they are not feeling well, and the assistant responds with empathy and offers to listen.\\n\\nContent: User: Hello\\nAssistant: {\\n  \"type\": \"text\",\\n  \"message\": \"Hi Sol! How are you feeling today? I'm here to listen if there's anything on your mind.\"\\n}\\nUser: Hello. I am not feeling good today\\nAssistant: {\\n  \"type\": \"text\",\\n  \"message\": \"I'm sorry to hear that you're not feeling good today, Sol. Would you like to talk about what's been bothering you? I'm here to listen.\"\\n}   \n",
       "d7ff722c64a68cfe 0                                                             Context: A user named Sol is expressing their feelings of stress and seeking support from the assistant.\\n\\nContent: User: I am not feeling good today\\nAssistant: {\\n  \"type\": \"text\",\\n  \"message\": \"I'm sorry to hear that you're not feeling good today, Sol. Would you like to talk about what's been bothering you? I'm here to listen.\"\\n}\\nUser: Sure\\nAssistant: {\\n  \"type\": \"text\",\\n  \"message\": \"Thank you for sharing, Sol. What's been on your mind lately? I'm here to help you work through it.\"\\n}\\nUser: Things have been so stressful at work today. And that's all I want to share today. Thanks\\nAssistant: {\\n  \"type\": \"completed\",\\n  \"message\": \"Thank you for sharing that with me, Sol. It's completely okay to take things one step at a time. If you ever want to talk more or need support, I'm here for you. Take care!\"\\n}   \n",
       "                 1                  Context: A user named Sol expresses feeling unwell and shares that work has been stressful, while the assistant offers support and a listening ear.\\n\\nContent: User: I am not feeling good today\\nAssistant: {\\n  \"type\": \"text\",\\n  \"message\": \"I'm sorry to hear that you're not feeling good today, Sol. Would you like to talk about what's been bothering you? I'm here to listen.\"\\n}\\nUser: Sure\\nAssistant: {\\n  \"type\": \"text\",\\n  \"message\": \"Thank you for sharing, Sol. What's been on your mind lately? I'm here to help you work through it.\"\\n}\\nUser: Things have been so stressful at work today. And that's all I want to share today. Thanks\\nAssistant: {\\n  \"type\": \"completed\",\\n  \"message\": \"Thank you for sharing that with me, Sol. It's completely okay to take things one step at a time. If you ever want to talk more or need support, I'm here for you. Take care!\"\\n}   \n",
       "                 2                                                                                                                                                                                                                                                                                                                                Context: A user named Sol initiates a conversation with the assistant, expressing that they are not feeling well, and the assistant responds with empathy and offers to listen.\\n\\nContent: User: Hello\\nAssistant: {\\n  \"type\": \"text\",\\n  \"message\": \"Hi Sol! How are you feeling today? I'm here to listen if there's anything on your mind.\"\\n}\\nUser: Hello. I am not feeling good today\\nAssistant: {\\n  \"type\": \"text\",\\n  \"message\": \"I'm sorry to hear that you're not feeling good today, Sol. Would you like to talk about what's been bothering you? I'm here to listen.\"\\n}   \n",
       "b9d8b6bc25c9217c 0                                                             Context: A user named Sol is expressing their feelings of stress and seeking support from the assistant.\\n\\nContent: User: I am not feeling good today\\nAssistant: {\\n  \"type\": \"text\",\\n  \"message\": \"I'm sorry to hear that you're not feeling good today, Sol. Would you like to talk about what's been bothering you? I'm here to listen.\"\\n}\\nUser: Sure\\nAssistant: {\\n  \"type\": \"text\",\\n  \"message\": \"Thank you for sharing, Sol. What's been on your mind lately? I'm here to help you work through it.\"\\n}\\nUser: Things have been so stressful at work today. And that's all I want to share today. Thanks\\nAssistant: {\\n  \"type\": \"completed\",\\n  \"message\": \"Thank you for sharing that with me, Sol. It's completely okay to take things one step at a time. If you ever want to talk more or need support, I'm here for you. Take care!\"\\n}   \n",
       "                 1                  Context: A user named Sol expresses feeling unwell and shares that work has been stressful, while the assistant offers support and a listening ear.\\n\\nContent: User: I am not feeling good today\\nAssistant: {\\n  \"type\": \"text\",\\n  \"message\": \"I'm sorry to hear that you're not feeling good today, Sol. Would you like to talk about what's been bothering you? I'm here to listen.\"\\n}\\nUser: Sure\\nAssistant: {\\n  \"type\": \"text\",\\n  \"message\": \"Thank you for sharing, Sol. What's been on your mind lately? I'm here to help you work through it.\"\\n}\\nUser: Things have been so stressful at work today. And that's all I want to share today. Thanks\\nAssistant: {\\n  \"type\": \"completed\",\\n  \"message\": \"Thank you for sharing that with me, Sol. It's completely okay to take things one step at a time. If you ever want to talk more or need support, I'm here for you. Take care!\"\\n}   \n",
       "                 2                                                                                                                                                                                                                                                                                                                                Context: A user named Sol initiates a conversation with the assistant, expressing that they are not feeling well, and the assistant responds with empathy and offers to listen.\\n\\nContent: User: Hello\\nAssistant: {\\n  \"type\": \"text\",\\n  \"message\": \"Hi Sol! How are you feeling today? I'm here to listen if there's anything on your mind.\"\\n}\\nUser: Hello. I am not feeling good today\\nAssistant: {\\n  \"type\": \"text\",\\n  \"message\": \"I'm sorry to hear that you're not feeling good today, Sol. Would you like to talk about what's been bothering you? I'm here to listen.\"\\n}   \n",
       "\n",
       "                                    document_score  \n",
       "context.span_id  document_position                  \n",
       "b2c21623c8b7e944 0                        0.202546  \n",
       "                 1                        0.201367  \n",
       "                 2                        0.123959  \n",
       "d7ff722c64a68cfe 0                        0.202546  \n",
       "                 1                        0.201367  \n",
       "                 2                        0.123959  \n",
       "b9d8b6bc25c9217c 0                        0.202546  \n",
       "                 1                        0.201367  \n",
       "                 2                        0.123959  "
      ]
     },
     "execution_count": 5,
     "metadata": {},
     "output_type": "execute_result"
    }
   ],
   "source": [
    "retrieved_documents_df = get_retrieved_documents(px.Client(), project_name='appointment_prep_agent')\n",
    "retrieved_documents_df"
   ]
  },
  {
   "cell_type": "markdown",
   "metadata": {
    "id": "gxyselyZugiN"
   },
   "source": [
    "Next, define your evaluation model and your evaluators.\n",
    "\n",
    "Evaluators are built on top of language models and prompt the LLM to assess the quality of responses, the relevance of retrieved documents, etc., and provide a quality signal even in the absence of human-labeled data. Pick an evaluator type and instantiate it with the language model you want to use to perform evaluations using our battle-tested evaluation templates."
   ]
  },
  {
   "cell_type": "code",
   "execution_count": 6,
   "metadata": {
    "id": "ja703m3GugiN"
   },
   "outputs": [
    {
     "name": "stderr",
     "output_type": "stream",
     "text": [
      "AWS secret, assistant_platform/global/env, could not be retrieved; no secrets from AWS were incorporated into config:\n",
      "An error occurred (ExpiredTokenException) when calling the GetSecretValue operation: The security token included in the request is expired\n",
      "Attempting to instrument while already instrumented\n"
     ]
    },
    {
     "name": "stdout",
     "output_type": "stream",
     "text": [
      "🔭 OpenTelemetry Tracing Details 🔭\n",
      "|  Phoenix Project: appointment_prep_agent\n",
      "|  Span Processor: SimpleSpanProcessor\n",
      "|  Collector Endpoint: https://app.phoenix.arize.com/v1/traces\n",
      "|  Transport: HTTP + protobuf\n",
      "|  Transport Headers: {'api_key': '****'}\n",
      "|  \n",
      "|  Using a default SpanProcessor. `add_span_processor` will overwrite this default.\n",
      "|  \n",
      "|  `register` has set this TracerProvider as the global OpenTelemetry default.\n",
      "|  To disable this behavior, call `register` with `set_global_tracer_provider=False`.\n",
      "\n"
     ]
    },
    {
     "data": {
      "application/vnd.jupyter.widget-view+json": {
       "model_id": "6ae617b736824a7e8ac5426e16be8ac7",
       "version_major": 2,
       "version_minor": 0
      },
      "text/plain": [
       "run_evals |          | 0/6 (0.0%) | ⏳ 00:00<? | ?it/s"
      ]
     },
     "metadata": {},
     "output_type": "display_data"
    },
    {
     "data": {
      "application/vnd.jupyter.widget-view+json": {
       "model_id": "6c8763d489154b6884cfb8f1bf70490f",
       "version_major": 2,
       "version_minor": 0
      },
      "text/plain": [
       "run_evals |          | 0/9 (0.0%) | ⏳ 00:00<? | ?it/s"
      ]
     },
     "metadata": {},
     "output_type": "display_data"
    },
    {
     "name": "stderr",
     "output_type": "stream",
     "text": [
      "/Users/thongbuiwork/sondermind/assistant-platform-service/venv/lib/python3.11/site-packages/phoenix/utilities/client.py:60: UserWarning: The Phoenix server (8.19.0) and client (8.20.0) versions are mismatched and may have compatibility issues.\n",
      "  warnings.warn(\n"
     ]
    }
   ],
   "source": [
    "\"\"\"\n",
    "eval_model = OpenAIModel(\n",
    "    model=\"gpt-4o\",\n",
    ")\n",
    "\n",
    "\"\"\"\n",
    "from sm_llm.agents.phoenix_utility import get_aps_azure_openai\n",
    "\n",
    "eval_model = get_aps_azure_openai()\n",
    "\n",
    "hallucination_evaluator = HallucinationEvaluator(eval_model)\n",
    "qa_correctness_evaluator = QAEvaluator(eval_model)\n",
    "relevance_evaluator = RelevanceEvaluator(eval_model)\n",
    "\n",
    "hallucination_eval_df, qa_correctness_eval_df = run_evals(\n",
    "    dataframe=queries_df,\n",
    "    evaluators=[hallucination_evaluator, qa_correctness_evaluator],\n",
    "    provide_explanation=True,\n",
    ")\n",
    "relevance_eval_df = run_evals(\n",
    "    dataframe=retrieved_documents_df,\n",
    "    evaluators=[relevance_evaluator],\n",
    "    provide_explanation=True,\n",
    ")[0]\n",
    "\n",
    "px.Client().log_evaluations(\n",
    "    SpanEvaluations(eval_name=\"Hallucination\", dataframe=hallucination_eval_df),\n",
    "    SpanEvaluations(eval_name=\"QA Correctness\", dataframe=qa_correctness_eval_df),\n",
    "    DocumentEvaluations(eval_name=\"Relevance\", dataframe=relevance_eval_df),\n",
    ")"
   ]
  },
  {
   "cell_type": "code",
   "execution_count": 7,
   "metadata": {},
   "outputs": [
    {
     "data": {
      "text/html": [
       "<div>\n",
       "<style scoped>\n",
       "    .dataframe tbody tr th:only-of-type {\n",
       "        vertical-align: middle;\n",
       "    }\n",
       "\n",
       "    .dataframe tbody tr th {\n",
       "        vertical-align: top;\n",
       "    }\n",
       "\n",
       "    .dataframe thead th {\n",
       "        text-align: right;\n",
       "    }\n",
       "</style>\n",
       "<table border=\"1\" class=\"dataframe\">\n",
       "  <thead>\n",
       "    <tr style=\"text-align: right;\">\n",
       "      <th></th>\n",
       "      <th>label</th>\n",
       "      <th>score</th>\n",
       "      <th>explanation</th>\n",
       "    </tr>\n",
       "    <tr>\n",
       "      <th>context.span_id</th>\n",
       "      <th></th>\n",
       "      <th></th>\n",
       "      <th></th>\n",
       "    </tr>\n",
       "  </thead>\n",
       "  <tbody>\n",
       "    <tr>\n",
       "      <th>1b63b8bf6829fb03</th>\n",
       "      <td>hallucinated</td>\n",
       "      <td>1</td>\n",
       "      <td>To determine if the answer is factual or hallucinated, we need to compare the information in the answer with the details provided in the reference text. The query asks about recent reflections, and the reference text provides a conversation where Sol mentions feeling stressed, particularly due to work, and not feeling well. The answer states that Sol has mentioned feeling stressed, especially related to work, and not feeling well, which aligns with the reference text. However, the answer also includes a statement about seeking support and asking if there's anything specific Sol would like to focus on in a session. The reference text does not mention anything about a session or seeking support in a structured way like a session. Therefore, the part about focusing on something specific in a session is not supported by the reference text, making that portion of the answer a hallucination.</td>\n",
       "    </tr>\n",
       "    <tr>\n",
       "      <th>2149c5eaa0a59e6c</th>\n",
       "      <td>factual</td>\n",
       "      <td>0</td>\n",
       "      <td>To determine if the answer is factual or hallucinated, we need to compare the information in the answer with the details provided in the reference text. \\n\\n1. The query asks about recent reflections, which implies looking at what the user, Sol, has mentioned in their recent interactions.\\n\\n2. The reference text shows that Sol has expressed not feeling good and mentioned that things have been stressful at work. This is consistent across multiple interactions where Sol states they are not feeling well and that work has been stressful.\\n\\n3. The answer states that Sol has mentioned feeling stressed, especially related to work, and not feeling well. This aligns with the reference text where Sol explicitly mentions these feelings.\\n\\n4. The answer also includes a statement about seeking support, which is implied by Sol's engagement with the assistant and the assistant's offer to listen and provide support.\\n\\n5. The final part of the answer asks if there is anything specific Sol would...</td>\n",
       "    </tr>\n",
       "    <tr>\n",
       "      <th>98fee675909b4751</th>\n",
       "      <td>hallucinated</td>\n",
       "      <td>1</td>\n",
       "      <td>To determine if the answer is factual or hallucinated, we need to compare the information in the answer with the details provided in the reference text. \\n\\n1. The query asks about what has been mentioned in recent reflections. The reference text provides several interactions between a user named Sol and an assistant.\\n\\n2. In the reference text, Sol mentions feeling stressed, particularly due to work, and not feeling well. This is consistent across multiple interactions where Sol expresses not feeling good and mentions stress at work.\\n\\n3. The answer states: \"Recently, you've mentioned feeling stressed, especially related to work, and not feeling well.\" This aligns with the reference text where Sol indeed mentions these feelings.\\n\\n4. The answer also includes: \"It's great that you're seeking support. Is there anything specific you'd like to focus on in your first session?\" While the first part about seeking support is implied by Sol's interaction with the assistant, the mention ...</td>\n",
       "    </tr>\n",
       "  </tbody>\n",
       "</table>\n",
       "</div>"
      ],
      "text/plain": [
       "                         label  score  \\\n",
       "context.span_id                         \n",
       "1b63b8bf6829fb03  hallucinated      1   \n",
       "2149c5eaa0a59e6c       factual      0   \n",
       "98fee675909b4751  hallucinated      1   \n",
       "\n",
       "                                                                                                                                                                                                                                                                                                                                                                                                                                                                                                                                                                                                                                                                                                                                                                                                                                                                                                                                                                                                                                              explanation  \n",
       "context.span_id                                                                                                                                                                                                                                                                                                                                                                                                                                                                                                                                                                                                                                                                                                                                                                                                                                                                                                                                                                                                                                            \n",
       "1b63b8bf6829fb03                                                                                                       To determine if the answer is factual or hallucinated, we need to compare the information in the answer with the details provided in the reference text. The query asks about recent reflections, and the reference text provides a conversation where Sol mentions feeling stressed, particularly due to work, and not feeling well. The answer states that Sol has mentioned feeling stressed, especially related to work, and not feeling well, which aligns with the reference text. However, the answer also includes a statement about seeking support and asking if there's anything specific Sol would like to focus on in a session. The reference text does not mention anything about a session or seeking support in a structured way like a session. Therefore, the part about focusing on something specific in a session is not supported by the reference text, making that portion of the answer a hallucination.  \n",
       "2149c5eaa0a59e6c  To determine if the answer is factual or hallucinated, we need to compare the information in the answer with the details provided in the reference text. \\n\\n1. The query asks about recent reflections, which implies looking at what the user, Sol, has mentioned in their recent interactions.\\n\\n2. The reference text shows that Sol has expressed not feeling good and mentioned that things have been stressful at work. This is consistent across multiple interactions where Sol states they are not feeling well and that work has been stressful.\\n\\n3. The answer states that Sol has mentioned feeling stressed, especially related to work, and not feeling well. This aligns with the reference text where Sol explicitly mentions these feelings.\\n\\n4. The answer also includes a statement about seeking support, which is implied by Sol's engagement with the assistant and the assistant's offer to listen and provide support.\\n\\n5. The final part of the answer asks if there is anything specific Sol would...  \n",
       "98fee675909b4751  To determine if the answer is factual or hallucinated, we need to compare the information in the answer with the details provided in the reference text. \\n\\n1. The query asks about what has been mentioned in recent reflections. The reference text provides several interactions between a user named Sol and an assistant.\\n\\n2. In the reference text, Sol mentions feeling stressed, particularly due to work, and not feeling well. This is consistent across multiple interactions where Sol expresses not feeling good and mentions stress at work.\\n\\n3. The answer states: \"Recently, you've mentioned feeling stressed, especially related to work, and not feeling well.\" This aligns with the reference text where Sol indeed mentions these feelings.\\n\\n4. The answer also includes: \"It's great that you're seeking support. Is there anything specific you'd like to focus on in your first session?\" While the first part about seeking support is implied by Sol's interaction with the assistant, the mention ...  "
      ]
     },
     "execution_count": 7,
     "metadata": {},
     "output_type": "execute_result"
    }
   ],
   "source": [
    "hallucination_eval_df"
   ]
  },
  {
   "cell_type": "code",
   "execution_count": 8,
   "metadata": {},
   "outputs": [
    {
     "data": {
      "text/html": [
       "<div>\n",
       "<style scoped>\n",
       "    .dataframe tbody tr th:only-of-type {\n",
       "        vertical-align: middle;\n",
       "    }\n",
       "\n",
       "    .dataframe tbody tr th {\n",
       "        vertical-align: top;\n",
       "    }\n",
       "\n",
       "    .dataframe thead th {\n",
       "        text-align: right;\n",
       "    }\n",
       "</style>\n",
       "<table border=\"1\" class=\"dataframe\">\n",
       "  <thead>\n",
       "    <tr style=\"text-align: right;\">\n",
       "      <th></th>\n",
       "      <th>label</th>\n",
       "      <th>score</th>\n",
       "      <th>explanation</th>\n",
       "    </tr>\n",
       "    <tr>\n",
       "      <th>context.span_id</th>\n",
       "      <th></th>\n",
       "      <th></th>\n",
       "      <th></th>\n",
       "    </tr>\n",
       "  </thead>\n",
       "  <tbody>\n",
       "    <tr>\n",
       "      <th>1b63b8bf6829fb03</th>\n",
       "      <td>correct</td>\n",
       "      <td>1</td>\n",
       "      <td>To determine if the answer is correct, we need to compare the content of the answer with the information provided in the reference text. The question asks about what has been mentioned in recent reflections. The reference text shows multiple interactions where the user, Sol, mentions feeling stressed, particularly due to work, and not feeling well. The answer states that Sol has mentioned feeling stressed, especially related to work, and not feeling well, which aligns with the information in the reference text. Additionally, the answer acknowledges Sol's seeking of support, which is consistent with the context of the interactions. Therefore, the answer correctly summarizes the recent reflections mentioned by Sol in the reference text.</td>\n",
       "    </tr>\n",
       "    <tr>\n",
       "      <th>2149c5eaa0a59e6c</th>\n",
       "      <td>correct</td>\n",
       "      <td>1</td>\n",
       "      <td>To determine if the answer is correct, we need to compare the content of the answer with the information provided in the reference text. The question asks about what has been mentioned in recent reflections. The reference text shows that Sol has mentioned feeling stressed, particularly due to work, and not feeling well. The answer states: \"Recently, you've mentioned feeling stressed, especially related to work, and not feeling well.\" This matches the information in the reference text. Additionally, the answer acknowledges Sol's seeking support, which is consistent with the context of the conversation. Therefore, the answer correctly reflects the recent reflections mentioned in the reference text.</td>\n",
       "    </tr>\n",
       "    <tr>\n",
       "      <th>98fee675909b4751</th>\n",
       "      <td>correct</td>\n",
       "      <td>1</td>\n",
       "      <td>To determine if the answer is correct, we need to compare the content of the answer with the information provided in the reference text. The question asks about what has been mentioned in recent reflections. The reference text shows that Sol has mentioned feeling stressed, particularly due to work, and not feeling well. The answer states: \"Recently, you've mentioned feeling stressed, especially related to work, and not feeling well.\" This matches the information in the reference text. Additionally, the answer acknowledges Sol's seeking support, which is consistent with the context of the conversation. Therefore, the answer correctly reflects the recent reflections mentioned in the reference text.</td>\n",
       "    </tr>\n",
       "  </tbody>\n",
       "</table>\n",
       "</div>"
      ],
      "text/plain": [
       "                    label  score  \\\n",
       "context.span_id                    \n",
       "1b63b8bf6829fb03  correct      1   \n",
       "2149c5eaa0a59e6c  correct      1   \n",
       "98fee675909b4751  correct      1   \n",
       "\n",
       "                                                                                                                                                                                                                                                                                                                                                                                                                                                                                                                                                                                                                                                                                                                                                                               explanation  \n",
       "context.span_id                                                                                                                                                                                                                                                                                                                                                                                                                                                                                                                                                                                                                                                                                                                                                                             \n",
       "1b63b8bf6829fb03  To determine if the answer is correct, we need to compare the content of the answer with the information provided in the reference text. The question asks about what has been mentioned in recent reflections. The reference text shows multiple interactions where the user, Sol, mentions feeling stressed, particularly due to work, and not feeling well. The answer states that Sol has mentioned feeling stressed, especially related to work, and not feeling well, which aligns with the information in the reference text. Additionally, the answer acknowledges Sol's seeking of support, which is consistent with the context of the interactions. Therefore, the answer correctly summarizes the recent reflections mentioned by Sol in the reference text.  \n",
       "2149c5eaa0a59e6c                                         To determine if the answer is correct, we need to compare the content of the answer with the information provided in the reference text. The question asks about what has been mentioned in recent reflections. The reference text shows that Sol has mentioned feeling stressed, particularly due to work, and not feeling well. The answer states: \"Recently, you've mentioned feeling stressed, especially related to work, and not feeling well.\" This matches the information in the reference text. Additionally, the answer acknowledges Sol's seeking support, which is consistent with the context of the conversation. Therefore, the answer correctly reflects the recent reflections mentioned in the reference text.  \n",
       "98fee675909b4751                                         To determine if the answer is correct, we need to compare the content of the answer with the information provided in the reference text. The question asks about what has been mentioned in recent reflections. The reference text shows that Sol has mentioned feeling stressed, particularly due to work, and not feeling well. The answer states: \"Recently, you've mentioned feeling stressed, especially related to work, and not feeling well.\" This matches the information in the reference text. Additionally, the answer acknowledges Sol's seeking support, which is consistent with the context of the conversation. Therefore, the answer correctly reflects the recent reflections mentioned in the reference text.  "
      ]
     },
     "execution_count": 8,
     "metadata": {},
     "output_type": "execute_result"
    }
   ],
   "source": [
    "qa_correctness_eval_df"
   ]
  },
  {
   "cell_type": "code",
   "execution_count": 9,
   "metadata": {},
   "outputs": [
    {
     "data": {
      "text/html": [
       "<div>\n",
       "<style scoped>\n",
       "    .dataframe tbody tr th:only-of-type {\n",
       "        vertical-align: middle;\n",
       "    }\n",
       "\n",
       "    .dataframe tbody tr th {\n",
       "        vertical-align: top;\n",
       "    }\n",
       "\n",
       "    .dataframe thead th {\n",
       "        text-align: right;\n",
       "    }\n",
       "</style>\n",
       "<table border=\"1\" class=\"dataframe\">\n",
       "  <thead>\n",
       "    <tr style=\"text-align: right;\">\n",
       "      <th></th>\n",
       "      <th></th>\n",
       "      <th>label</th>\n",
       "      <th>score</th>\n",
       "      <th>explanation</th>\n",
       "    </tr>\n",
       "    <tr>\n",
       "      <th>context.span_id</th>\n",
       "      <th>document_position</th>\n",
       "      <th></th>\n",
       "      <th></th>\n",
       "      <th></th>\n",
       "    </tr>\n",
       "  </thead>\n",
       "  <tbody>\n",
       "    <tr>\n",
       "      <th rowspan=\"3\" valign=\"top\">b2c21623c8b7e944</th>\n",
       "      <th>0</th>\n",
       "      <td>unrelated</td>\n",
       "      <td>0</td>\n",
       "      <td>The question 'recent reflections' is quite vague and does not provide specific context or details about what is being asked. It could refer to a variety of topics such as personal reflections, reflections on a recent event, or reflections in a specific context. The reference text, however, is a conversation between a user named Sol and an assistant, where Sol is expressing feelings of stress related to work. The conversation does not mention any reflections, recent or otherwise. It focuses on Sol's current emotional state and the assistant's supportive responses. Therefore, the reference text does not contain information about 'recent reflections' as it is not discussed or mentioned in the conversation. Thus, the reference text is unrelated to the question.</td>\n",
       "    </tr>\n",
       "    <tr>\n",
       "      <th>1</th>\n",
       "      <td>unrelated</td>\n",
       "      <td>0</td>\n",
       "      <td>The question \"recent reflections\" is quite vague and does not provide specific context or details about what is being asked. It could refer to recent thoughts, experiences, or insights. The reference text, however, is a conversation between a user named Sol and an assistant, where Sol shares feeling unwell and stressed due to work. The assistant offers support and a listening ear. This conversation does not directly address or provide information about \"recent reflections\" as it is more about Sol's current feelings and stress rather than reflections or insights. Therefore, the reference text does not contain information that can help answer the question about recent reflections.</td>\n",
       "    </tr>\n",
       "    <tr>\n",
       "      <th>2</th>\n",
       "      <td>unrelated</td>\n",
       "      <td>0</td>\n",
       "      <td>The question 'recent reflections' is quite vague and does not provide specific context or details about what is being asked. It could refer to recent thoughts, experiences, or feedback. The reference text, however, is a conversation between a user named Sol and an assistant, where Sol expresses not feeling well and the assistant offers to listen. This interaction does not provide any information about 'recent reflections' as it does not mention any reflections, thoughts, or feedback from Sol or the assistant. Therefore, the reference text does not contain information that can help answer the question about 'recent reflections'.</td>\n",
       "    </tr>\n",
       "    <tr>\n",
       "      <th rowspan=\"3\" valign=\"top\">d7ff722c64a68cfe</th>\n",
       "      <th>0</th>\n",
       "      <td>relevant</td>\n",
       "      <td>1</td>\n",
       "      <td>The question \"recent reflections\" is quite vague and does not provide specific context or details about what is being asked. It could refer to recent thoughts, experiences, or feelings. The reference text involves a conversation where a user named Sol is expressing feelings of stress and seeking support from an assistant. The conversation includes Sol's recent reflections on feeling stressed at work. This aligns with the idea of recent reflections, as Sol is reflecting on their current emotional state and experiences. Therefore, the reference text contains information that could be considered relevant to the question if the question is interpreted as seeking recent reflections or thoughts from an individual.</td>\n",
       "    </tr>\n",
       "    <tr>\n",
       "      <th>1</th>\n",
       "      <td>relevant</td>\n",
       "      <td>1</td>\n",
       "      <td>The question \"recent reflections\" is quite vague and does not provide specific details about what is being asked. It could refer to recent thoughts, experiences, or feelings. The reference text involves a conversation where a user named Sol shares their recent feelings of stress related to work. This could be considered a form of recent reflection, as Sol is reflecting on their current emotional state and experiences. Therefore, the reference text contains information that could be relevant to the question if it is interpreted as seeking recent reflections or thoughts from an individual.</td>\n",
       "    </tr>\n",
       "    <tr>\n",
       "      <th>2</th>\n",
       "      <td>unrelated</td>\n",
       "      <td>0</td>\n",
       "      <td>The question is 'recent reflections,' which is quite vague and does not provide specific context or details about what kind of reflections are being referred to. The reference text is a conversation between a user named Sol and an assistant, where Sol expresses not feeling well, and the assistant offers empathy and a listening ear. The reference text does not mention any reflections, recent or otherwise, nor does it provide any information that could be interpreted as reflections. Therefore, the reference text does not contain information relevant to answering the question about 'recent reflections.'</td>\n",
       "    </tr>\n",
       "    <tr>\n",
       "      <th rowspan=\"3\" valign=\"top\">b9d8b6bc25c9217c</th>\n",
       "      <th>0</th>\n",
       "      <td>relevant</td>\n",
       "      <td>1</td>\n",
       "      <td>The question is 'recent reflections,' which is quite vague and does not provide specific context or details about what is being asked. The reference text, however, is a conversation between a user named Sol and an assistant, where Sol expresses feelings of stress and seeks support. The conversation includes Sol's recent reflections on their stressful day at work. This aligns with the idea of 'recent reflections' as it involves Sol reflecting on their current emotional state and experiences. Therefore, the reference text contains information that can be considered relevant to the question, as it provides an example of recent reflections from Sol's perspective.</td>\n",
       "    </tr>\n",
       "    <tr>\n",
       "      <th>1</th>\n",
       "      <td>unrelated</td>\n",
       "      <td>0</td>\n",
       "      <td>The question 'recent reflections' is quite vague and does not provide specific context or details about what is being asked. The reference text involves a conversation between a user named Sol and an assistant, where Sol expresses feeling unwell and mentions stress at work. The assistant offers support and a listening ear. However, there is no explicit mention of 'recent reflections' or any content that directly addresses reflections or introspective thoughts. The reference text is more about providing emotional support rather than discussing reflections. Therefore, the reference text does not contain information that directly answers or relates to the question 'recent reflections'.</td>\n",
       "    </tr>\n",
       "    <tr>\n",
       "      <th>2</th>\n",
       "      <td>unrelated</td>\n",
       "      <td>0</td>\n",
       "      <td>The question 'recent reflections' is quite vague and does not provide specific context or details about what is being asked. It could refer to recent thoughts, experiences, or feedback. The reference text, however, is a conversation between a user named Sol and an assistant, where Sol expresses not feeling well and the assistant offers to listen. This interaction does not provide any information about 'recent reflections' as it does not mention any reflections, thoughts, or feedback from Sol or the assistant. Therefore, the reference text does not contain information that can help answer the question about 'recent reflections'.</td>\n",
       "    </tr>\n",
       "  </tbody>\n",
       "</table>\n",
       "</div>"
      ],
      "text/plain": [
       "                                        label  score  \\\n",
       "context.span_id  document_position                     \n",
       "b2c21623c8b7e944 0                  unrelated      0   \n",
       "                 1                  unrelated      0   \n",
       "                 2                  unrelated      0   \n",
       "d7ff722c64a68cfe 0                   relevant      1   \n",
       "                 1                   relevant      1   \n",
       "                 2                  unrelated      0   \n",
       "b9d8b6bc25c9217c 0                   relevant      1   \n",
       "                 1                  unrelated      0   \n",
       "                 2                  unrelated      0   \n",
       "\n",
       "                                                                                                                                                                                                                                                                                                                                                                                                                                                                                                                                                                                                                                                                                                                                                                                                                        explanation  \n",
       "context.span_id  document_position                                                                                                                                                                                                                                                                                                                                                                                                                                                                                                                                                                                                                                                                                                                                                                                                   \n",
       "b2c21623c8b7e944 0                  The question 'recent reflections' is quite vague and does not provide specific context or details about what is being asked. It could refer to a variety of topics such as personal reflections, reflections on a recent event, or reflections in a specific context. The reference text, however, is a conversation between a user named Sol and an assistant, where Sol is expressing feelings of stress related to work. The conversation does not mention any reflections, recent or otherwise. It focuses on Sol's current emotional state and the assistant's supportive responses. Therefore, the reference text does not contain information about 'recent reflections' as it is not discussed or mentioned in the conversation. Thus, the reference text is unrelated to the question.  \n",
       "                 1                                                                                                  The question \"recent reflections\" is quite vague and does not provide specific context or details about what is being asked. It could refer to recent thoughts, experiences, or insights. The reference text, however, is a conversation between a user named Sol and an assistant, where Sol shares feeling unwell and stressed due to work. The assistant offers support and a listening ear. This conversation does not directly address or provide information about \"recent reflections\" as it is more about Sol's current feelings and stress rather than reflections or insights. Therefore, the reference text does not contain information that can help answer the question about recent reflections.  \n",
       "                 2                                                                                                                                                      The question 'recent reflections' is quite vague and does not provide specific context or details about what is being asked. It could refer to recent thoughts, experiences, or feedback. The reference text, however, is a conversation between a user named Sol and an assistant, where Sol expresses not feeling well and the assistant offers to listen. This interaction does not provide any information about 'recent reflections' as it does not mention any reflections, thoughts, or feedback from Sol or the assistant. Therefore, the reference text does not contain information that can help answer the question about 'recent reflections'.  \n",
       "d7ff722c64a68cfe 0                                                                    The question \"recent reflections\" is quite vague and does not provide specific context or details about what is being asked. It could refer to recent thoughts, experiences, or feelings. The reference text involves a conversation where a user named Sol is expressing feelings of stress and seeking support from an assistant. The conversation includes Sol's recent reflections on feeling stressed at work. This aligns with the idea of recent reflections, as Sol is reflecting on their current emotional state and experiences. Therefore, the reference text contains information that could be considered relevant to the question if the question is interpreted as seeking recent reflections or thoughts from an individual.  \n",
       "                 1                                                                                                                                                                                               The question \"recent reflections\" is quite vague and does not provide specific details about what is being asked. It could refer to recent thoughts, experiences, or feelings. The reference text involves a conversation where a user named Sol shares their recent feelings of stress related to work. This could be considered a form of recent reflection, as Sol is reflecting on their current emotional state and experiences. Therefore, the reference text contains information that could be relevant to the question if it is interpreted as seeking recent reflections or thoughts from an individual.  \n",
       "                 2                                                                                                                                                                                  The question is 'recent reflections,' which is quite vague and does not provide specific context or details about what kind of reflections are being referred to. The reference text is a conversation between a user named Sol and an assistant, where Sol expresses not feeling well, and the assistant offers empathy and a listening ear. The reference text does not mention any reflections, recent or otherwise, nor does it provide any information that could be interpreted as reflections. Therefore, the reference text does not contain information relevant to answering the question about 'recent reflections.'  \n",
       "b9d8b6bc25c9217c 0                                                                                                                      The question is 'recent reflections,' which is quite vague and does not provide specific context or details about what is being asked. The reference text, however, is a conversation between a user named Sol and an assistant, where Sol expresses feelings of stress and seeks support. The conversation includes Sol's recent reflections on their stressful day at work. This aligns with the idea of 'recent reflections' as it involves Sol reflecting on their current emotional state and experiences. Therefore, the reference text contains information that can be considered relevant to the question, as it provides an example of recent reflections from Sol's perspective.  \n",
       "                 1                                                                                              The question 'recent reflections' is quite vague and does not provide specific context or details about what is being asked. The reference text involves a conversation between a user named Sol and an assistant, where Sol expresses feeling unwell and mentions stress at work. The assistant offers support and a listening ear. However, there is no explicit mention of 'recent reflections' or any content that directly addresses reflections or introspective thoughts. The reference text is more about providing emotional support rather than discussing reflections. Therefore, the reference text does not contain information that directly answers or relates to the question 'recent reflections'.  \n",
       "                 2                                                                                                                                                      The question 'recent reflections' is quite vague and does not provide specific context or details about what is being asked. It could refer to recent thoughts, experiences, or feedback. The reference text, however, is a conversation between a user named Sol and an assistant, where Sol expresses not feeling well and the assistant offers to listen. This interaction does not provide any information about 'recent reflections' as it does not mention any reflections, thoughts, or feedback from Sol or the assistant. Therefore, the reference text does not contain information that can help answer the question about 'recent reflections'.  "
      ]
     },
     "execution_count": 9,
     "metadata": {},
     "output_type": "execute_result"
    }
   ],
   "source": [
    "relevance_eval_df"
   ]
  },
  {
   "cell_type": "markdown",
   "metadata": {
    "id": "8vbsDGfyugiN"
   },
   "source": [
    "Your evaluations should now appear as annotations on the appropriate spans in Phoenix.\n",
    "\n",
    "![A view of the Phoenix UI with evaluation annotations](https://storage.googleapis.com/arize-phoenix-assets/assets/docs/notebooks/evals/traces_with_evaluation_annotations.png)"
   ]
  },
  {
   "cell_type": "markdown",
   "metadata": {
    "id": "fHzt6iABugiO"
   },
   "source": [
    "## 7. Final Thoughts\n",
    "\n",
    "LLM Traces and the accompanying OpenInference Tracing specification is designed to be a category of telemetry data that is used to understand the execution of LLMs and the surrounding application context such as retrieval from vector stores and the usage of external tools such as search engines or APIs. It lets you understand the inner workings of the individual steps your application takes wile also giving you visibility into how your system is running and performing as a whole.\n",
    "\n",
    "LLM Evals are designed for simple, fast, and accurate LLM-based evaluations. They let you quickly benchmark the performance of your LLM application and help you identify the problematic spans of execution.\n",
    "\n",
    "For more details on Phoenix, LLM Tracing, and LLM Evals, checkout our [documentation](https://docs.arize.com/phoenix/)."
   ]
  }
 ],
 "metadata": {
  "colab": {
   "provenance": []
  },
  "kernelspec": {
   "display_name": "Python 3 (ipykernel)",
   "language": "python",
   "name": "python3"
  },
  "language_info": {
   "codemirror_mode": {
    "name": "ipython",
    "version": 3
   },
   "file_extension": ".py",
   "mimetype": "text/x-python",
   "name": "python",
   "nbconvert_exporter": "python",
   "pygments_lexer": "ipython3",
   "version": "3.11.9"
  }
 },
 "nbformat": 4,
 "nbformat_minor": 4
}
