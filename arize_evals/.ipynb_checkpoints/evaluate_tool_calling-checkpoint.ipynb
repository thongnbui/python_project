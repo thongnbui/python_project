{
  "cells": [
    {
      "cell_type": "markdown",
      "metadata": {
        "id": "DZTVvRxkwku5"
      },
      "source": [
        "<center>\n",
        "    <p style=\"text-align:center\">\n",
        "        <img alt=\"phoenix logo\" src=\"https://storage.googleapis.com/arize-phoenix-assets/assets/phoenix-logo-light.svg\" width=\"200\"/>\n",
        "        <br>\n",
        "        <a href=\"https://docs.arize.com/phoenix/\">Docs</a>\n",
        "        |\n",
        "        <a href=\"https://github.com/Arize-ai/phoenix\">GitHub</a>\n",
        "        |\n",
        "        <a href=\"https://join.slack.com/t/arize-ai/shared_invite/zt-1px8dcmlf-fmThhDFD_V_48oU7ALan4Q\">Community</a>\n",
        "    </p>\n",
        "</center>\n",
        "<h1 align=\"center\">Tool Calling Evals</h1>\n",
        "\n",
        "The purpose of this notebook is:\n",
        "\n",
        "- to evaluate the multi-step LLM logic involved in tool calling,\n",
        "- to provide an experimental framework for users to iterate and improve on the default evaluation template.\n",
        "\n",
        "## Install Dependencies and Import Libraries"
      ]
    },
    {
      "cell_type": "code",
      "execution_count": null,
      "metadata": {
        "id": "jAaGehi7tvft"
      },
      "outputs": [],
      "source": [
        "%pip install -qq \"arize-phoenix>=8.8.0\" \"arize-phoenix-otel>=0.8.0\" llama-index-llms-openai openai gcsfs nest_asyncio langchain langchain-openai openinference-instrumentation-langchain"
      ]
    },
    {
      "cell_type": "code",
      "execution_count": null,
      "metadata": {
        "cellView": "form",
        "id": "KvBTXtxRt26b"
      },
      "outputs": [],
      "source": [
        "import os\n",
        "from getpass import getpass\n",
        "\n",
        "if not (openai_api_key := os.getenv(\"OPENAI_API_KEY\")):\n",
        "    openai_api_key = getpass(\"🔑 Enter your OpenAI API key: \")\n",
        "\n",
        "os.environ[\"OPENAI_API_KEY\"] = openai_api_key"
      ]
    },
    {
      "cell_type": "code",
      "execution_count": null,
      "metadata": {
        "id": "cUeYzQU6t6D-"
      },
      "outputs": [],
      "source": [
        "import nest_asyncio\n",
        "import pandas as pd\n",
        "\n",
        "from phoenix.evals import (\n",
        "    TOOL_CALLING_PROMPT_RAILS_MAP,\n",
        "    TOOL_CALLING_PROMPT_TEMPLATE,\n",
        "    OpenAIModel,\n",
        "    llm_classify,\n",
        ")\n",
        "\n",
        "nest_asyncio.apply()"
      ]
    },
    {
      "cell_type": "markdown",
      "metadata": {
        "id": "Y_vkAGCYwku8"
      },
      "source": [
        "# Generate App Usage Data\n",
        "\n",
        "Let's begin by generating some data to use for our evaluation. Let's pretend we have a chatbot for an ecommerce company that is armed with a set of functions to lookup products and orders."
      ]
    },
    {
      "cell_type": "code",
      "execution_count": null,
      "metadata": {
        "id": "csndng-xRrqA"
      },
      "outputs": [],
      "source": [
        "GEN_TEMPLATE = \"\"\"\n",
        "You are an assistant that generates complex customer service questions. You will try to answer the question with the tool if possible,\n",
        "do your best to answer, ask for more information only if needed.\n",
        "The questions should often involve:\n",
        "\n",
        "Please reference the product names, the product details, product IDS and product information.\n",
        "\n",
        "Multiple Categories: Questions that could logically fall into more than one category (e.g., combining product details with a discount code).\n",
        "Vague Details: Questions with limited or vague information that require clarification to categorize correctly.\n",
        "Mixed Intentions: Queries where the customer’s goal or need is unclear or seems to conflict within the question itself.\n",
        "Indirect Language: Use of indirect or polite phrasing that obscures the direct need or request (e.g., using \"I was wondering if...\" or \"Perhaps you could help me with...\").\n",
        "For specific categories:\n",
        "\n",
        "Track Package: Include vague timing references (e.g., \"recently\" or \"a while ago\") instead of specific dates.\n",
        "Product Comparison and Product Search: Include generic descriptors without specific product names or IDs (e.g., \"high-end smartphones\" or \"energy-efficient appliances\").\n",
        "Apply Discount Code: Include questions about discounts that might apply to hypothetical or past situations, or without mentioning if they have made a purchase.\n",
        "Product Details: Ask for comparisons or details that involve multiple products or categories ambiguously (e.g., \"Tell me about your range of electronics that are good for home office setups\").\n",
        "Examples of More Challenging Questions\n",
        "Multiple Categories\n",
        "\n",
        "\"I recently bought a samsung 106i smart phone, and I was wondering if there's a way to check what deals I might have missed or if my order is on its way?\"\n",
        "\"Could you tell me if the samsung 15H adapater in my last order are covered under warranty and if they have shipped yet?\"\n",
        "Vague Details\n",
        "\n",
        "\"There's an issue with one of the Vizio 14Y TV I think I bought last month—what should I do?\"\n",
        "\"I need help with a iPhone 16H I ordered, or maybe I'm just looking for something new. Can you help?\"\n",
        "Mixed Intentions\n",
        "\n",
        "\"I'm not sure if I should ask for a refund or just find out when it will arrive. What do you suggest?\"\n",
        "\"Could you help me decide whether to upgrade my product or just track the current one?\"\n",
        "Indirect Language\n",
        "\n",
        "\"I was wondering if you might assist me in figuring out a problem I have with an order, or maybe it's more of a query?\"\n",
        "\"Perhaps you could help me understand the benefits of your premium products compared to the regular ones?\"\n",
        "\n",
        "Some questions should be straightforward uses of the provided functions\n",
        "\n",
        "Respond with a list, one question per line. Do not include any numbering at the beginning of each line. Do not include any category headings.\n",
        "Generate 20 questions.\n",
        "\"\"\""
      ]
    },
    {
      "cell_type": "code",
      "execution_count": null,
      "metadata": {
        "id": "PmB4rLLbuHaN"
      },
      "outputs": [],
      "source": [
        "model = OpenAIModel(model=\"gpt-4o\", max_tokens=1300)"
      ]
    },
    {
      "cell_type": "code",
      "execution_count": null,
      "metadata": {
        "id": "jkixHyS-uSSj"
      },
      "outputs": [],
      "source": [
        "resp = model(GEN_TEMPLATE)"
      ]
    },
    {
      "cell_type": "code",
      "execution_count": null,
      "metadata": {
        "id": "mNDJeuOTyjDA"
      },
      "outputs": [],
      "source": [
        "split_response = resp.strip().split(\"\\n\")\n",
        "\n",
        "questions_df = pd.DataFrame(split_response, columns=[\"questions\"])\n",
        "print(questions_df)"
      ]
    },
    {
      "cell_type": "markdown",
      "metadata": {
        "id": "YOIstO10ynOw"
      },
      "source": [
        "# Define a tool-calling agent with Langchain\n",
        "\n",
        "Now we'll define the chatbot agent using Langchain to attach the functions as tools."
      ]
    },
    {
      "cell_type": "code",
      "execution_count": null,
      "metadata": {
        "id": "ceIKijABB8Z_"
      },
      "outputs": [],
      "source": [
        "from langchain import hub\n",
        "from langchain.agents import AgentExecutor, create_tool_calling_agent\n",
        "from langchain.tools import tool\n",
        "from langchain_openai import ChatOpenAI\n",
        "\n",
        "import phoenix as px\n",
        "from phoenix.otel import register"
      ]
    },
    {
      "cell_type": "markdown",
      "metadata": {
        "id": "2B0TJ-Vfwku9"
      },
      "source": [
        "### Connect to Phoenix"
      ]
    },
    {
      "cell_type": "markdown",
      "metadata": {
        "id": "QTg_fKY0wku9"
      },
      "source": [
        "We'll also enable tracing with Phoenix using our Langchain auto-instrumentor to capture telemetry that we can later evaluate.\n",
        "\n",
        "This code will connect you to an online version of Phoenix, at app.phoenix.arize.com. If you're self-hosting Phoenix, be sure to change your Collector Endpoint below, and remove the API Key."
      ]
    },
    {
      "cell_type": "code",
      "execution_count": null,
      "metadata": {
        "id": "21G13sdkCVLg"
      },
      "outputs": [],
      "source": [
        "if not (phoenix_api_key := os.getenv(\"PHOENIX_API_KEY\")):\n",
        "    phoenix_api_key = getpass(\"🔑 Enter your Phoenix API key: \")\n",
        "\n",
        "os.environ[\"PHOENIX_API_KEY\"] = phoenix_api_key\n",
        "os.environ[\"PHOENIX_COLLECTOR_ENDPOINT\"] = \"https://app.phoenix.arize.com/\"\n",
        "os.environ[\"PHOENIX_CLIENT_HEADERS\"] = f\"api_key={phoenix_api_key}\"\n",
        "\n",
        "os.environ[\"PHOENIX_PROJECT_NAME\"] = \"Tool Calling Eval\"\n",
        "\n",
        "tracer_provider = register(auto_instrument=True, project_name=\"Tool Calling Eval\")"
      ]
    },
    {
      "cell_type": "markdown",
      "metadata": {
        "id": "uKfopHx4wku-"
      },
      "source": [
        "Now we'll define our basic functions using pydantic. The actual logic of the functions doesn't matter in this evaluation scenario, since we won't be evaluating anything beyond the function generation step."
      ]
    },
    {
      "cell_type": "code",
      "execution_count": null,
      "metadata": {
        "id": "uZBUQTqZFj4r"
      },
      "outputs": [],
      "source": [
        "## function definitions using pydantic decorator\n",
        "\n",
        "\n",
        "@tool\n",
        "def product_comparison(product_a_id: str, product_b_id: str) -> dict:\n",
        "    \"\"\"\n",
        "    Compare features of two products.\n",
        "\n",
        "    Parameters:\n",
        "    product_a_id (str): The unique identifier of Product A.\n",
        "    product_b_id (str): The unique identifier of Product B.\n",
        "\n",
        "    Returns:\n",
        "    dict: A dictionary containing the comparison of the two products.\n",
        "    \"\"\"\n",
        "\n",
        "    if product_a_id == \"\" or product_b_id == \"\":\n",
        "        return {\"error\": \"missing product id\"}\n",
        "\n",
        "    # Implement the function logic here\n",
        "    return {\"comparison\": \"Similar\"}\n",
        "\n",
        "\n",
        "@tool\n",
        "def product_details(product_id: str) -> dict:\n",
        "    \"\"\"\n",
        "    Get detailed features on one product.\n",
        "\n",
        "    Parameters:\n",
        "    product_id (str): The unique identifier of the Product.\n",
        "\n",
        "    Returns:\n",
        "    dict: A dictionary containing product details.\n",
        "    \"\"\"\n",
        "\n",
        "    if product_id == \"\":\n",
        "        return {\"error\": \"missing product id\"}\n",
        "\n",
        "    # Implement the function logic here\n",
        "    return {\"name\": \"Product Name\", \"price\": \"$12.50\", \"Availability\": \"In Stock\"}\n",
        "\n",
        "\n",
        "@tool\n",
        "def apply_discount_code(order_id: int, discount_code: str) -> dict:\n",
        "    \"\"\"\n",
        "    Applies a discount code to an order.\n",
        "\n",
        "    Parameters:\n",
        "    order_id (str): The unique identifier of the order.\n",
        "    discount_code (str): The discount code to apply.\n",
        "\n",
        "    Returns:\n",
        "    dict: A dictionary containing the updated order details.\n",
        "    \"\"\"\n",
        "\n",
        "    if order_id == \"\" or discount_code == \"\":\n",
        "        return {\"error\": \"missing order id or discount code\"}\n",
        "\n",
        "    # Implement the function logic here\n",
        "    return {\"applied\": \"True\"}\n",
        "\n",
        "\n",
        "@tool\n",
        "def product_search(\n",
        "    query: str,\n",
        "    category: str = None,\n",
        "    min_price: float = 0.0,\n",
        "    max_price: float = None,\n",
        "    page: int = 1,\n",
        "    page_size: int = 20,\n",
        ") -> dict:\n",
        "    \"\"\"\n",
        "    Search for products based on criteria.\n",
        "\n",
        "    Parameters:\n",
        "    query (str): The search query string.\n",
        "    category (str, optional): The category to filter the search. Default is None.\n",
        "    min_price (float, optional): The minimum price of the products to search. Default is 0.\n",
        "    max_price (float, optional): The maximum price of the products to search. Default is None.\n",
        "    page (int, optional): The page number for pagination. Default is 1.\n",
        "    page_size (int, optional): The number of results per page. Default is 20.\n",
        "\n",
        "    Returns:\n",
        "    dict: A dictionary containing the search results and pagination info.\n",
        "    \"\"\"\n",
        "\n",
        "    if query == \"\":\n",
        "        return {\"error\": \"missing query\"}\n",
        "\n",
        "    # Implement the function logic here\n",
        "    return {\"results\": [], \"pagination\": {\"total\": 0, \"page\": 1, \"page_size\": 20}}\n",
        "\n",
        "\n",
        "@tool\n",
        "def customer_support(issue_type: str) -> dict:\n",
        "    \"\"\"\n",
        "    Get contact information for customer support regarding an issue.\n",
        "\n",
        "    Parameters:\n",
        "    issue_type (str): The type of issue (e.g., billing, technical support).\n",
        "\n",
        "    Returns:\n",
        "    dict: A dictionary containing the contact information for customer support.\n",
        "    \"\"\"\n",
        "\n",
        "    if issue_type == \"\":\n",
        "        return {\"error\": \"missing issue type\"}\n",
        "\n",
        "    # Implement the function logic here\n",
        "    return {\"contact\": issue_type}\n",
        "\n",
        "\n",
        "@tool\n",
        "def track_package(tracking_number: int) -> dict:\n",
        "    \"\"\"\n",
        "    Track the status of a package based on the tracking number.\n",
        "\n",
        "    Parameters:\n",
        "    tracking_number (str): The tracking number of the package.\n",
        "\n",
        "    Returns:\n",
        "    dict: A dictionary containing the tracking status of the package.\n",
        "    \"\"\"\n",
        "    if tracking_number == \"\":\n",
        "        return {\"error\": \"missing tracking number\"}\n",
        "\n",
        "    # Implement the function logic here\n",
        "    return {\"status\": \"Delivered\"}\n",
        "\n",
        "\n",
        "tools = [\n",
        "    product_comparison,\n",
        "    product_search,\n",
        "    customer_support,\n",
        "    track_package,\n",
        "    apply_discount_code,\n",
        "    product_details,\n",
        "]"
      ]
    },
    {
      "cell_type": "code",
      "execution_count": null,
      "metadata": {
        "id": "8rXNA8ApCt7C"
      },
      "outputs": [],
      "source": [
        "llm = ChatOpenAI(model=\"gpt-4o\")\n",
        "prompt = hub.pull(\"hwchase17/openai-functions-agent\")\n",
        "agent = create_tool_calling_agent(llm, tools, prompt)\n",
        "agent_executor = AgentExecutor(agent=agent, tools=tools, verbose=True)"
      ]
    },
    {
      "cell_type": "markdown",
      "metadata": {
        "id": "DOkDJEVmLMrN"
      },
      "source": [
        "# Run Chain on each question\n",
        "\n",
        "With our agent defined, we can now run it across each generated question."
      ]
    },
    {
      "cell_type": "code",
      "execution_count": null,
      "metadata": {
        "id": "ZRb9QODuLUcR"
      },
      "outputs": [],
      "source": [
        "questions_df[\"response\"] = questions_df[\"questions\"].apply(\n",
        "    lambda x: agent_executor.invoke({\"input\": x})\n",
        ")"
      ]
    },
    {
      "cell_type": "code",
      "execution_count": null,
      "metadata": {
        "collapsed": true,
        "id": "xS3HPR4sPY-J"
      },
      "outputs": [],
      "source": [
        "questions_df"
      ]
    },
    {
      "cell_type": "markdown",
      "metadata": {
        "id": "qcD7yrdq9xio"
      },
      "source": [
        "# Evaluate Tool Calls\n",
        "\n",
        "Now that we have some example runs of our agent to analyze, we can start the evaluation process. We'll start by exporting all of those spans from Phoenix"
      ]
    },
    {
      "cell_type": "code",
      "execution_count": null,
      "metadata": {
        "id": "o4ehVNIx90RJ"
      },
      "outputs": [],
      "source": [
        "from phoenix.trace import SpanEvaluations\n",
        "from phoenix.trace.dsl import SpanQuery"
      ]
    },
    {
      "cell_type": "markdown",
      "metadata": {
        "id": "uZDxeXUfwku-"
      },
      "source": [
        "Since we'll only be evaluating the inputs, outputs, and function call columns, let's extract those into an easier to use df. Helpfully, Phoenix provides a method to query your span data and directly export only the values you care about."
      ]
    },
    {
      "cell_type": "code",
      "execution_count": null,
      "metadata": {
        "id": "JXuodhcq90RT"
      },
      "outputs": [],
      "source": [
        "query = (\n",
        "    SpanQuery()\n",
        "    .where(\n",
        "        # Filter for the `LLM` span kind.\n",
        "        # The filter condition is a string of valid Python boolean expression.\n",
        "        \"span_kind == 'LLM'\",\n",
        "    )\n",
        "    .select(\n",
        "        # Extract and rename the following span attributes\n",
        "        question=\"llm.input_messages\",\n",
        "        outputs=\"llm.output_messages\",\n",
        "    )\n",
        ")\n",
        "trace_df = px.Client().query_spans(query, project_name=\"Tool Calling Eval\")\n",
        "# trace_df[\"tool_call\"] = trace_df[\"tool_call\"].fillna(\"No tool used\")"
      ]
    },
    {
      "cell_type": "code",
      "execution_count": null,
      "metadata": {
        "id": "KOk2wL39wku-"
      },
      "outputs": [],
      "source": [
        "def get_tool_call(outputs):\n",
        "    if outputs[0].get(\"message\").get(\"tool_calls\"):\n",
        "        return (\n",
        "            outputs[0]\n",
        "            .get(\"message\")\n",
        "            .get(\"tool_calls\")[0]\n",
        "            .get(\"tool_call\")\n",
        "            .get(\"function\")\n",
        "            .get(\"name\")\n",
        "        )\n",
        "    else:\n",
        "        return \"No tool used\"\n",
        "\n",
        "\n",
        "trace_df[\"tool_call\"] = trace_df[\"outputs\"].apply(get_tool_call)"
      ]
    },
    {
      "cell_type": "markdown",
      "metadata": {
        "id": "Lxm5M32ywku-"
      },
      "source": [
        "We'll also need to pass in our tool definitions to the evaluator:"
      ]
    },
    {
      "cell_type": "code",
      "execution_count": null,
      "metadata": {
        "id": "LrIWc6fDwku_"
      },
      "outputs": [],
      "source": [
        "tool_definitions = \"\"\n",
        "\n",
        "for current_tool in tools:\n",
        "    tool_definitions += f\"\"\"\n",
        "    {current_tool.name}: {current_tool.description}\n",
        "    \"\"\"\n",
        "\n",
        "print(tool_definitions)"
      ]
    },
    {
      "cell_type": "markdown",
      "metadata": {
        "id": "n4zXs-nywku_"
      },
      "source": [
        "Next, we define the evaluator model to use"
      ]
    },
    {
      "cell_type": "code",
      "execution_count": null,
      "metadata": {
        "id": "ArTkQ7UHwku_"
      },
      "outputs": [],
      "source": [
        "trace_df[\"tool_definitions\"] = tool_definitions"
      ]
    },
    {
      "cell_type": "code",
      "execution_count": null,
      "metadata": {
        "id": "bgaGKUsj90RU"
      },
      "outputs": [],
      "source": [
        "eval_model = OpenAIModel(model=\"gpt-4o\")"
      ]
    },
    {
      "cell_type": "markdown",
      "metadata": {
        "id": "wHXtSqA7wku_"
      },
      "source": [
        "And we're ready to call our evaluator! The method below takes in the dataframe of traces to evaluate, our built in evaluation prompt, the eval model to use, and a rails object to snap responses from our model to a set of binary classification responses.\n",
        "\n",
        "We'll also instruct our model to provide explanations for its responses."
      ]
    },
    {
      "cell_type": "code",
      "execution_count": null,
      "metadata": {
        "id": "GvtW9NGK90RU"
      },
      "outputs": [],
      "source": [
        "rails = list(TOOL_CALLING_PROMPT_RAILS_MAP.values())\n",
        "\n",
        "response_classifications = llm_classify(\n",
        "    dataframe=trace_df,\n",
        "    template=TOOL_CALLING_PROMPT_TEMPLATE,\n",
        "    model=eval_model,\n",
        "    rails=rails,\n",
        "    provide_explanation=True,\n",
        ")\n",
        "response_classifications[\"score\"] = response_classifications.apply(\n",
        "    lambda x: 1 if x[\"label\"] == \"correct\" else 0, axis=1\n",
        ")"
      ]
    },
    {
      "cell_type": "code",
      "execution_count": null,
      "metadata": {
        "id": "pf2OkgnCLwT-"
      },
      "outputs": [],
      "source": [
        "response_classifications"
      ]
    },
    {
      "cell_type": "markdown",
      "metadata": {
        "id": "wOk79aXAwku_"
      },
      "source": [
        "Finally, we'll export these responses back into Phoenix to view them in the UI."
      ]
    },
    {
      "cell_type": "code",
      "execution_count": null,
      "metadata": {
        "id": "_A5LWDzd90RU"
      },
      "outputs": [],
      "source": [
        "px.Client().log_evaluations(\n",
        "    SpanEvaluations(eval_name=\"Tool Calling Eval\", dataframe=response_classifications),\n",
        ")"
      ]
    },
    {
      "cell_type": "markdown",
      "metadata": {
        "id": "VJ8sNn2_wku_"
      },
      "source": [
        "From here, you could iterate on different agent logic and prompts to improve performance, or you could further decompose the evaluation into individual steps looking first at Routing, then Parameter Extraction, then Code Generation to determine where to focus.\n",
        "\n",
        "![Tool Calling Evaluation Results](https://storage.googleapis.com/arize-phoenix-assets/assets/images/tool-calling-nb-result.png)\n",
        "\n",
        "Happy building!"
      ]
    }
  ],
  "metadata": {
    "colab": {
      "collapsed_sections": [
        "qcD7yrdq9xio",
        "m5_aA0tMJjN8",
        "CpYA4ZCIGHvu"
      ],
      "provenance": []
    },
    "kernelspec": {
      "display_name": "Python 3",
      "language": "python",
      "name": "python3"
    },
    "language_info": {
      "codemirror_mode": {
        "name": "ipython",
        "version": 3
      },
      "file_extension": ".py",
      "mimetype": "text/x-python",
      "name": "python",
      "nbconvert_exporter": "python",
      "pygments_lexer": "ipython3",
      "version": "3.11.11"
    }
  },
  "nbformat": 4,
  "nbformat_minor": 0
}