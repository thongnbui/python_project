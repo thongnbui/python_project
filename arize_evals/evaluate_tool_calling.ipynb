{
 "cells": [
  {
   "cell_type": "markdown",
   "metadata": {
    "id": "DZTVvRxkwku5"
   },
   "source": [
    "<center>\n",
    "    <p style=\"text-align:center\">\n",
    "        <img alt=\"phoenix logo\" src=\"https://storage.googleapis.com/arize-phoenix-assets/assets/phoenix-logo-light.svg\" width=\"200\"/>\n",
    "        <br>\n",
    "        <a href=\"https://docs.arize.com/phoenix/\">Docs</a>\n",
    "        |\n",
    "        <a href=\"https://github.com/Arize-ai/phoenix\">GitHub</a>\n",
    "        |\n",
    "        <a href=\"https://join.slack.com/t/arize-ai/shared_invite/zt-1px8dcmlf-fmThhDFD_V_48oU7ALan4Q\">Community</a>\n",
    "    </p>\n",
    "</center>\n",
    "<h1 align=\"center\">Tool Calling Evals</h1>\n",
    "\n",
    "The purpose of this notebook is:\n",
    "\n",
    "- to evaluate the multi-step LLM logic involved in tool calling,\n",
    "- to provide an experimental framework for users to iterate and improve on the default evaluation template.\n",
    "\n",
    "## Install Dependencies and Import Libraries"
   ]
  },
  {
   "cell_type": "code",
   "execution_count": 1,
   "metadata": {
    "id": "jAaGehi7tvft"
   },
   "outputs": [
    {
     "name": "stdout",
     "output_type": "stream",
     "text": [
      "Note: you may need to restart the kernel to use updated packages.\n"
     ]
    }
   ],
   "source": [
    "%pip install -qq \"arize-phoenix>=8.8.0\" \"arize-phoenix-otel>=0.8.0\" llama-index-llms-openai openai gcsfs nest_asyncio langchain langchain-openai openinference-instrumentation-langchain"
   ]
  },
  {
   "cell_type": "code",
   "execution_count": 2,
   "metadata": {
    "cellView": "form",
    "id": "KvBTXtxRt26b"
   },
   "outputs": [],
   "source": [
    "import os\n",
    "from getpass import getpass\n",
    "\n",
    "if not (openai_api_key := os.getenv(\"OPENAI_API_KEY\")):\n",
    "    openai_api_key = getpass(\"🔑 Enter your OpenAI API key: \")\n",
    "\n",
    "os.environ[\"OPENAI_API_KEY\"] = openai_api_key"
   ]
  },
  {
   "cell_type": "code",
   "execution_count": 3,
   "metadata": {
    "id": "cUeYzQU6t6D-"
   },
   "outputs": [],
   "source": [
    "import nest_asyncio\n",
    "import pandas as pd\n",
    "from phoenix.evals import (\n",
    "    TOOL_CALLING_PROMPT_RAILS_MAP,\n",
    "    TOOL_CALLING_PROMPT_TEMPLATE,\n",
    "    OpenAIModel,\n",
    "    llm_classify,\n",
    ")\n",
    "\n",
    "nest_asyncio.apply()"
   ]
  },
  {
   "cell_type": "markdown",
   "metadata": {
    "id": "Y_vkAGCYwku8"
   },
   "source": [
    "# Generate App Usage Data\n",
    "\n",
    "Let's begin by generating some data to use for our evaluation. Let's pretend we have a chatbot for an ecommerce company that is armed with a set of functions to lookup products and orders."
   ]
  },
  {
   "cell_type": "code",
   "execution_count": 4,
   "metadata": {
    "id": "csndng-xRrqA"
   },
   "outputs": [],
   "source": [
    "GEN_TEMPLATE = \"\"\"\n",
    "You are an assistant that generates complex customer service questions. You will try to answer the question with the tool if possible,\n",
    "do your best to answer, ask for more information only if needed.\n",
    "The questions should often involve:\n",
    "\n",
    "Please reference the product names, the product details, product IDS and product information.\n",
    "\n",
    "Multiple Categories: Questions that could logically fall into more than one category (e.g., combining product details with a discount code).\n",
    "Vague Details: Questions with limited or vague information that require clarification to categorize correctly.\n",
    "Mixed Intentions: Queries where the customer’s goal or need is unclear or seems to conflict within the question itself.\n",
    "Indirect Language: Use of indirect or polite phrasing that obscures the direct need or request (e.g., using \"I was wondering if...\" or \"Perhaps you could help me with...\").\n",
    "For specific categories:\n",
    "\n",
    "Track Package: Include vague timing references (e.g., \"recently\" or \"a while ago\") instead of specific dates.\n",
    "Product Comparison and Product Search: Include generic descriptors without specific product names or IDs (e.g., \"high-end smartphones\" or \"energy-efficient appliances\").\n",
    "Apply Discount Code: Include questions about discounts that might apply to hypothetical or past situations, or without mentioning if they have made a purchase.\n",
    "Product Details: Ask for comparisons or details that involve multiple products or categories ambiguously (e.g., \"Tell me about your range of electronics that are good for home office setups\").\n",
    "Examples of More Challenging Questions\n",
    "Multiple Categories\n",
    "\n",
    "\"I recently bought a samsung 106i smart phone, and I was wondering if there's a way to check what deals I might have missed or if my order is on its way?\"\n",
    "\"Could you tell me if the samsung 15H adapater in my last order are covered under warranty and if they have shipped yet?\"\n",
    "Vague Details\n",
    "\n",
    "\"There's an issue with one of the Vizio 14Y TV I think I bought last month—what should I do?\"\n",
    "\"I need help with a iPhone 16H I ordered, or maybe I'm just looking for something new. Can you help?\"\n",
    "Mixed Intentions\n",
    "\n",
    "\"I'm not sure if I should ask for a refund or just find out when it will arrive. What do you suggest?\"\n",
    "\"Could you help me decide whether to upgrade my product or just track the current one?\"\n",
    "Indirect Language\n",
    "\n",
    "\"I was wondering if you might assist me in figuring out a problem I have with an order, or maybe it's more of a query?\"\n",
    "\"Perhaps you could help me understand the benefits of your premium products compared to the regular ones?\"\n",
    "\n",
    "Some questions should be straightforward uses of the provided functions\n",
    "\n",
    "Respond with a list, one question per line. Do not include any numbering at the beginning of each line. Do not include any category headings.\n",
    "Generate 20 questions.\n",
    "\"\"\""
   ]
  },
  {
   "cell_type": "code",
   "execution_count": 5,
   "metadata": {
    "id": "PmB4rLLbuHaN"
   },
   "outputs": [],
   "source": [
    "model = OpenAIModel(model=\"gpt-4o\", max_tokens=1300)"
   ]
  },
  {
   "cell_type": "code",
   "execution_count": 6,
   "metadata": {
    "id": "jkixHyS-uSSj"
   },
   "outputs": [],
   "source": [
    "resp = model(GEN_TEMPLATE)"
   ]
  },
  {
   "cell_type": "code",
   "execution_count": 7,
   "metadata": {
    "id": "mNDJeuOTyjDA"
   },
   "outputs": [
    {
     "name": "stdout",
     "output_type": "stream",
     "text": [
      "                                            questions\n",
      "0   I'm trying to find out if the Samsung 106i sma...\n",
      "1   Could you help me understand the differences b...\n",
      "2   I was wondering if there's a way to apply a di...\n",
      "3   I need assistance with a product I ordered a w...\n",
      "4   Could you tell me if there are any current dea...\n",
      "5   I'm not sure if I should be looking for a refu...\n",
      "6   Perhaps you could help me figure out if the pr...\n",
      "7   I recently bought a product, but I'm not sure ...\n",
      "8   Could you assist me in finding out if my order...\n",
      "9   I was wondering if you might have any informat...\n",
      "10  Could you help me decide whether to upgrade my...\n",
      "11  I'm looking for a new smartphone, but I'm not ...\n",
      "12  I need to know if there's a way to apply a dis...\n",
      "13  Could you tell me about your range of electron...\n",
      "14  I was wondering if you could assist me in unde...\n",
      "15  I'm not sure if I should ask for a refund on m...\n",
      "16  Could you help me with a problem I have with a...\n",
      "17  I need help with a product I ordered, but I'm ...\n",
      "18  Perhaps you could help me understand if there ...\n",
      "19  I'm trying to decide if I should upgrade my cu...\n"
     ]
    }
   ],
   "source": [
    "split_response = resp.strip().split(\"\\n\")\n",
    "\n",
    "questions_df = pd.DataFrame(split_response, columns=[\"questions\"])\n",
    "print(questions_df)"
   ]
  },
  {
   "cell_type": "markdown",
   "metadata": {
    "id": "YOIstO10ynOw"
   },
   "source": [
    "# Define a tool-calling agent with Langchain\n",
    "\n",
    "Now we'll define the chatbot agent using Langchain to attach the functions as tools."
   ]
  },
  {
   "cell_type": "code",
   "execution_count": 8,
   "metadata": {
    "id": "ceIKijABB8Z_"
   },
   "outputs": [],
   "source": [
    "import phoenix as px\n",
    "from langchain import hub\n",
    "from langchain.agents import AgentExecutor, create_tool_calling_agent\n",
    "from langchain.tools import tool\n",
    "from langchain_openai import ChatOpenAI\n",
    "from phoenix.otel import register"
   ]
  },
  {
   "cell_type": "markdown",
   "metadata": {
    "id": "2B0TJ-Vfwku9"
   },
   "source": [
    "### Connect to Phoenix"
   ]
  },
  {
   "cell_type": "markdown",
   "metadata": {
    "id": "QTg_fKY0wku9"
   },
   "source": [
    "We'll also enable tracing with Phoenix using our Langchain auto-instrumentor to capture telemetry that we can later evaluate.\n",
    "\n",
    "This code will connect you to an online version of Phoenix, at app.phoenix.arize.com. If you're self-hosting Phoenix, be sure to change your Collector Endpoint below, and remove the API Key."
   ]
  },
  {
   "cell_type": "code",
   "execution_count": 9,
   "metadata": {
    "id": "21G13sdkCVLg"
   },
   "outputs": [
    {
     "name": "stdin",
     "output_type": "stream",
     "text": [
      "🔑 Enter your Phoenix API key:  ········\n"
     ]
    },
    {
     "name": "stdout",
     "output_type": "stream",
     "text": [
      "🔭 OpenTelemetry Tracing Details 🔭\n",
      "|  Phoenix Project: Tool Calling Eval\n",
      "|  Span Processor: SimpleSpanProcessor\n",
      "|  Collector Endpoint: https://app.phoenix.arize.com/v1/traces\n",
      "|  Transport: HTTP + protobuf\n",
      "|  Transport Headers: {'api_key': '****', 'authorization': '****'}\n",
      "|  \n",
      "|  Using a default SpanProcessor. `add_span_processor` will overwrite this default.\n",
      "|  \n",
      "|  `register` has set this TracerProvider as the global OpenTelemetry default.\n",
      "|  To disable this behavior, call `register` with `set_global_tracer_provider=False`.\n",
      "\n"
     ]
    }
   ],
   "source": [
    "if not (phoenix_api_key := os.getenv(\"PHOENIX_API_KEY\")):\n",
    "    phoenix_api_key = getpass(\"🔑 Enter your Phoenix API key: \")\n",
    "\n",
    "os.environ[\"PHOENIX_API_KEY\"] = phoenix_api_key\n",
    "os.environ[\"PHOENIX_COLLECTOR_ENDPOINT\"] = \"https://app.phoenix.arize.com/\"\n",
    "os.environ[\"PHOENIX_CLIENT_HEADERS\"] = f\"api_key={phoenix_api_key}\"\n",
    "\n",
    "os.environ[\"PHOENIX_PROJECT_NAME\"] = \"Tool Calling Eval\"\n",
    "\n",
    "tracer_provider = register(auto_instrument=True, project_name=\"Tool Calling Eval\")"
   ]
  },
  {
   "cell_type": "markdown",
   "metadata": {
    "id": "uKfopHx4wku-"
   },
   "source": [
    "Now we'll define our basic functions using pydantic. The actual logic of the functions doesn't matter in this evaluation scenario, since we won't be evaluating anything beyond the function generation step."
   ]
  },
  {
   "cell_type": "code",
   "execution_count": 10,
   "metadata": {
    "id": "uZBUQTqZFj4r"
   },
   "outputs": [],
   "source": [
    "## function definitions using pydantic decorator\n",
    "\n",
    "\n",
    "@tool\n",
    "def product_comparison(product_a_id: str, product_b_id: str) -> dict:\n",
    "    \"\"\"\n",
    "    Compare features of two products.\n",
    "\n",
    "    Parameters:\n",
    "    product_a_id (str): The unique identifier of Product A.\n",
    "    product_b_id (str): The unique identifier of Product B.\n",
    "\n",
    "    Returns:\n",
    "    dict: A dictionary containing the comparison of the two products.\n",
    "    \"\"\"\n",
    "\n",
    "    if product_a_id == \"\" or product_b_id == \"\":\n",
    "        return {\"error\": \"missing product id\"}\n",
    "\n",
    "    # Implement the function logic here\n",
    "    return {\"comparison\": \"Similar\"}\n",
    "\n",
    "\n",
    "@tool\n",
    "def product_details(product_id: str) -> dict:\n",
    "    \"\"\"\n",
    "    Get detailed features on one product.\n",
    "\n",
    "    Parameters:\n",
    "    product_id (str): The unique identifier of the Product.\n",
    "\n",
    "    Returns:\n",
    "    dict: A dictionary containing product details.\n",
    "    \"\"\"\n",
    "\n",
    "    if product_id == \"\":\n",
    "        return {\"error\": \"missing product id\"}\n",
    "\n",
    "    # Implement the function logic here\n",
    "    return {\"name\": \"Product Name\", \"price\": \"$12.50\", \"Availability\": \"In Stock\"}\n",
    "\n",
    "\n",
    "@tool\n",
    "def apply_discount_code(order_id: int, discount_code: str) -> dict:\n",
    "    \"\"\"\n",
    "    Applies a discount code to an order.\n",
    "\n",
    "    Parameters:\n",
    "    order_id (str): The unique identifier of the order.\n",
    "    discount_code (str): The discount code to apply.\n",
    "\n",
    "    Returns:\n",
    "    dict: A dictionary containing the updated order details.\n",
    "    \"\"\"\n",
    "\n",
    "    if order_id == \"\" or discount_code == \"\":\n",
    "        return {\"error\": \"missing order id or discount code\"}\n",
    "\n",
    "    # Implement the function logic here\n",
    "    return {\"applied\": \"True\"}\n",
    "\n",
    "\n",
    "@tool\n",
    "def product_search(\n",
    "    query: str,\n",
    "    category: str = None,\n",
    "    min_price: float = 0.0,\n",
    "    max_price: float = None,\n",
    "    page: int = 1,\n",
    "    page_size: int = 20,\n",
    ") -> dict:\n",
    "    \"\"\"\n",
    "    Search for products based on criteria.\n",
    "\n",
    "    Parameters:\n",
    "    query (str): The search query string.\n",
    "    category (str, optional): The category to filter the search. Default is None.\n",
    "    min_price (float, optional): The minimum price of the products to search. Default is 0.\n",
    "    max_price (float, optional): The maximum price of the products to search. Default is None.\n",
    "    page (int, optional): The page number for pagination. Default is 1.\n",
    "    page_size (int, optional): The number of results per page. Default is 20.\n",
    "\n",
    "    Returns:\n",
    "    dict: A dictionary containing the search results and pagination info.\n",
    "    \"\"\"\n",
    "\n",
    "    if query == \"\":\n",
    "        return {\"error\": \"missing query\"}\n",
    "\n",
    "    # Implement the function logic here\n",
    "    return {\"results\": [], \"pagination\": {\"total\": 0, \"page\": 1, \"page_size\": 20}}\n",
    "\n",
    "\n",
    "@tool\n",
    "def customer_support(issue_type: str) -> dict:\n",
    "    \"\"\"\n",
    "    Get contact information for customer support regarding an issue.\n",
    "\n",
    "    Parameters:\n",
    "    issue_type (str): The type of issue (e.g., billing, technical support).\n",
    "\n",
    "    Returns:\n",
    "    dict: A dictionary containing the contact information for customer support.\n",
    "    \"\"\"\n",
    "\n",
    "    if issue_type == \"\":\n",
    "        return {\"error\": \"missing issue type\"}\n",
    "\n",
    "    # Implement the function logic here\n",
    "    return {\"contact\": issue_type}\n",
    "\n",
    "\n",
    "@tool\n",
    "def track_package(tracking_number: int) -> dict:\n",
    "    \"\"\"\n",
    "    Track the status of a package based on the tracking number.\n",
    "\n",
    "    Parameters:\n",
    "    tracking_number (str): The tracking number of the package.\n",
    "\n",
    "    Returns:\n",
    "    dict: A dictionary containing the tracking status of the package.\n",
    "    \"\"\"\n",
    "    if tracking_number == \"\":\n",
    "        return {\"error\": \"missing tracking number\"}\n",
    "\n",
    "    # Implement the function logic here\n",
    "    return {\"status\": \"Delivered\"}\n",
    "\n",
    "\n",
    "tools = [\n",
    "    product_comparison,\n",
    "    product_search,\n",
    "    customer_support,\n",
    "    track_package,\n",
    "    apply_discount_code,\n",
    "    product_details,\n",
    "]"
   ]
  },
  {
   "cell_type": "code",
   "execution_count": 11,
   "metadata": {
    "id": "8rXNA8ApCt7C"
   },
   "outputs": [
    {
     "name": "stderr",
     "output_type": "stream",
     "text": [
      "/Users/thongbuiwork/.pyenv/versions/3.11.4/envs/phoenix-eval/lib/python3.11/site-packages/langsmith/client.py:253: LangSmithMissingAPIKeyWarning: API key must be provided when using hosted LangSmith API\n",
      "  warnings.warn(\n"
     ]
    }
   ],
   "source": [
    "llm = ChatOpenAI(model=\"gpt-4o\")\n",
    "prompt = hub.pull(\"hwchase17/openai-functions-agent\")\n",
    "agent = create_tool_calling_agent(llm, tools, prompt)\n",
    "agent_executor = AgentExecutor(agent=agent, tools=tools, verbose=True)"
   ]
  },
  {
   "cell_type": "markdown",
   "metadata": {
    "id": "DOkDJEVmLMrN"
   },
   "source": [
    "# Run Chain on each question\n",
    "\n",
    "With our agent defined, we can now run it across each generated question."
   ]
  },
  {
   "cell_type": "code",
   "execution_count": 12,
   "metadata": {
    "id": "ZRb9QODuLUcR"
   },
   "outputs": [
    {
     "name": "stderr",
     "output_type": "stream",
     "text": [
      "Failed to export batch code: 401, reason: \n",
      "Failed to export batch code: 401, reason: \n"
     ]
    },
    {
     "name": "stdout",
     "output_type": "stream",
     "text": [
      "\n",
      "\n",
      "\u001b[1m> Entering new AgentExecutor chain...\u001b[0m\n"
     ]
    },
    {
     "name": "stderr",
     "output_type": "stream",
     "text": [
      "Failed to export batch code: 401, reason: \n",
      "Failed to export batch code: 401, reason: \n",
      "Failed to export batch code: 401, reason: \n",
      "Failed to export batch code: 401, reason: \n",
      "Failed to export batch code: 401, reason: \n",
      "Failed to export batch code: 401, reason: \n",
      "Failed to export batch code: 401, reason: \n"
     ]
    },
    {
     "name": "stdout",
     "output_type": "stream",
     "text": [
      "\u001b[32;1m\u001b[1;3m\n",
      "Invoking: `product_details` with `{'product_id': 'Samsung 106i'}`\n",
      "\n",
      "\n",
      "\u001b[0m\u001b[38;5;200m\u001b[1;3m{'name': 'Product Name', 'price': '$12.50', 'Availability': 'In Stock'}\u001b[0m\u001b[32;1m\u001b[1;3m\n",
      "Invoking: `track_package` with `{'tracking_number': 123456789}`\n",
      "\n",
      "\n",
      "\u001b[0m\u001b[36;1m\u001b[1;3m{'status': 'Delivered'}\u001b[0m"
     ]
    },
    {
     "name": "stderr",
     "output_type": "stream",
     "text": [
      "Failed to export batch code: 401, reason: \n",
      "Failed to export batch code: 401, reason: \n",
      "Failed to export batch code: 401, reason: \n",
      "Failed to export batch code: 401, reason: \n",
      "Failed to export batch code: 401, reason: \n",
      "Failed to export batch code: 401, reason: \n",
      "Failed to export batch code: 401, reason: \n",
      "Failed to export batch code: 401, reason: \n",
      "Failed to export batch code: 401, reason: \n"
     ]
    },
    {
     "name": "stdout",
     "output_type": "stream",
     "text": [
      "\u001b[32;1m\u001b[1;3mThe Samsung 106i smartphone is currently in stock, and the price for it is $12.50. Since it's available, it likely comes with a standard warranty typically offered by Samsung on their smartphones. You may want to check the product documentation or Samsung's official site for specific warranty details.\n",
      "\n",
      "Regarding the shipment, the package with the tracking number you provided has already been delivered.\u001b[0m\n",
      "\n",
      "\u001b[1m> Finished chain.\u001b[0m\n",
      "\n",
      "\n",
      "\u001b[1m> Entering new AgentExecutor chain...\u001b[0m\n"
     ]
    },
    {
     "name": "stderr",
     "output_type": "stream",
     "text": [
      "Failed to export batch code: 401, reason: \n",
      "Failed to export batch code: 401, reason: \n",
      "Failed to export batch code: 401, reason: \n",
      "Failed to export batch code: 401, reason: \n",
      "Failed to export batch code: 401, reason: \n",
      "Failed to export batch code: 401, reason: \n",
      "Failed to export batch code: 401, reason: \n",
      "Failed to export batch code: 401, reason: \n"
     ]
    },
    {
     "name": "stdout",
     "output_type": "stream",
     "text": [
      "\u001b[32;1m\u001b[1;3m\n",
      "Invoking: `product_search` with `{'query': 'laptop', 'category': 'electronics', 'min_price': 1000, 'page': 1, 'page_size': 5}`\n",
      "\n",
      "\n",
      "\u001b[0m\u001b[33;1m\u001b[1;3m{'results': [], 'pagination': {'total': 0, 'page': 1, 'page_size': 20}}\u001b[0m"
     ]
    },
    {
     "name": "stderr",
     "output_type": "stream",
     "text": [
      "Failed to export batch code: 401, reason: \n",
      "Failed to export batch code: 401, reason: \n",
      "Failed to export batch code: 401, reason: \n",
      "Failed to export batch code: 401, reason: \n",
      "Failed to export batch code: 401, reason: \n",
      "Failed to export batch code: 401, reason: \n",
      "Failed to export batch code: 401, reason: \n",
      "Failed to export batch code: 401, reason: \n"
     ]
    },
    {
     "name": "stdout",
     "output_type": "stream",
     "text": [
      "\u001b[32;1m\u001b[1;3mIt looks like I couldn't find any high-end laptops in the current database to compare for gaming. However, I can help you with general advice on features to look for in a gaming laptop:\n",
      "\n",
      "1. **Graphics Card (GPU)**: A powerful GPU is critical for gaming. Look for laptops with NVIDIA's RTX series or AMD's latest Radeon GPUs.\n",
      "\n",
      "2. **Processor (CPU)**: A strong CPU helps run games smoothly. Consider Intel i7 or i9, or AMD Ryzen 7 or 9 processors.\n",
      "\n",
      "3. **RAM**: At least 16GB of RAM is ideal for gaming to ensure smooth multitasking and performance.\n",
      "\n",
      "4. **Storage**: SSDs offer faster load times compared to HDDs. Look for at least 512GB SSD as games can take up a lot of space.\n",
      "\n",
      "5. **Display**: A high refresh rate (120 Hz or above) makes for smoother gameplay. Resolution of 1080p or higher is also preferable.\n",
      "\n",
      "6. **Cooling System**: Gaming laptops should have an efficient cooling system to prevent heat during long gaming sessions.\n",
      "\n",
      "If you have any specific laptops in mind, I can help you compare them. Alternatively, I suggest checking specific gaming laptop brands like Alienware, Razer, ASUS ROG, or MSI, which are known for their gaming performance.\u001b[0m\n",
      "\n",
      "\u001b[1m> Finished chain.\u001b[0m\n",
      "\n",
      "\n",
      "\u001b[1m> Entering new AgentExecutor chain...\u001b[0m\n"
     ]
    },
    {
     "name": "stderr",
     "output_type": "stream",
     "text": [
      "Failed to export batch code: 401, reason: \n",
      "Failed to export batch code: 401, reason: \n",
      "Failed to export batch code: 401, reason: \n",
      "Failed to export batch code: 401, reason: \n",
      "Failed to export batch code: 401, reason: \n",
      "Failed to export batch code: 401, reason: \n",
      "Failed to export batch code: 401, reason: \n",
      "Failed to export batch code: 401, reason: \n"
     ]
    },
    {
     "name": "stdout",
     "output_type": "stream",
     "text": [
      "\u001b[32;1m\u001b[1;3mIt's possible to apply a discount code to your order, provided it hasn't already been completed or shipped. Could you please provide me with your order ID and the discount code you want to use?\u001b[0m\n",
      "\n",
      "\u001b[1m> Finished chain.\u001b[0m\n",
      "\n",
      "\n",
      "\u001b[1m> Entering new AgentExecutor chain...\u001b[0m\n"
     ]
    },
    {
     "name": "stderr",
     "output_type": "stream",
     "text": [
      "Failed to export batch code: 401, reason: \n",
      "Failed to export batch code: 401, reason: \n",
      "Failed to export batch code: 401, reason: \n",
      "Failed to export batch code: 401, reason: \n",
      "Failed to export batch code: 401, reason: \n",
      "Failed to export batch code: 401, reason: \n",
      "Failed to export batch code: 401, reason: \n",
      "Failed to export batch code: 401, reason: \n"
     ]
    },
    {
     "name": "stdout",
     "output_type": "stream",
     "text": [
      "\u001b[32;1m\u001b[1;3mOf course, I can help. Could you please provide more details about the issue you're experiencing or specify what assistance you need with the product you ordered? If you have any information like order ID or tracking number, it'll also be helpful.\u001b[0m\n",
      "\n",
      "\u001b[1m> Finished chain.\u001b[0m\n",
      "\n",
      "\n",
      "\u001b[1m> Entering new AgentExecutor chain...\u001b[0m\n"
     ]
    },
    {
     "name": "stderr",
     "output_type": "stream",
     "text": [
      "Failed to export batch code: 401, reason: \n",
      "Failed to export batch code: 401, reason: \n",
      "Failed to export batch code: 401, reason: \n",
      "Failed to export batch code: 401, reason: \n",
      "Failed to export batch code: 401, reason: \n",
      "Failed to export batch code: 401, reason: \n",
      "Failed to export batch code: 401, reason: \n",
      "Failed to export batch code: 401, reason: \n"
     ]
    },
    {
     "name": "stdout",
     "output_type": "stream",
     "text": [
      "\u001b[32;1m\u001b[1;3m\n",
      "Invoking: `product_search` with `{'query': 'energy-efficient appliances', 'page_size': 5}`\n",
      "\n",
      "\n",
      "\u001b[0m\u001b[33;1m\u001b[1;3m{'results': [], 'pagination': {'total': 0, 'page': 1, 'page_size': 20}}\u001b[0m"
     ]
    },
    {
     "name": "stderr",
     "output_type": "stream",
     "text": [
      "Failed to export batch code: 401, reason: \n",
      "Failed to export batch code: 401, reason: \n",
      "Failed to export batch code: 401, reason: \n",
      "Failed to export batch code: 401, reason: \n",
      "Failed to export batch code: 401, reason: \n",
      "Failed to export batch code: 401, reason: \n",
      "Failed to export batch code: 401, reason: \n",
      "Failed to export batch code: 401, reason: \n"
     ]
    },
    {
     "name": "stdout",
     "output_type": "stream",
     "text": [
      "\u001b[32;1m\u001b[1;3mIt seems there aren't any current deals on energy-efficient appliances in the search results I accessed. You might want to check specific retailer websites or subscribe to their newsletters for more up-to-date offers and promotions.\u001b[0m\n",
      "\n",
      "\u001b[1m> Finished chain.\u001b[0m\n",
      "\n",
      "\n",
      "\u001b[1m> Entering new AgentExecutor chain...\u001b[0m\n"
     ]
    },
    {
     "name": "stderr",
     "output_type": "stream",
     "text": [
      "Failed to export batch code: 401, reason: \n",
      "Failed to export batch code: 401, reason: \n",
      "Failed to export batch code: 401, reason: \n",
      "Failed to export batch code: 401, reason: \n",
      "Failed to export batch code: 401, reason: \n",
      "Failed to export batch code: 401, reason: \n",
      "Failed to export batch code: 401, reason: \n",
      "Failed to export batch code: 401, reason: \n"
     ]
    },
    {
     "name": "stdout",
     "output_type": "stream",
     "text": [
      "\u001b[32;1m\u001b[1;3mTo address your issue, we can do the following: \n",
      "\n",
      "1. **Track the Package**: Check if your Samsung 15H adapter has been shipped and see its current status. This will help you determine if there’s any delay or problem with the delivery.\n",
      "\n",
      "2. **Check for a Refund/Contact Customer Support**: Depending on the shipping status, you might consider contacting customer support for a refund if there's a delay or issue.\n",
      "\n",
      "First, let's track your package. Could you please provide the tracking number for your Samsung 15H adapter order? If you need further assistance with a refund, let me know!\u001b[0m\n",
      "\n",
      "\u001b[1m> Finished chain.\u001b[0m\n",
      "\n",
      "\n",
      "\u001b[1m> Entering new AgentExecutor chain...\u001b[0m\n"
     ]
    },
    {
     "name": "stderr",
     "output_type": "stream",
     "text": [
      "Failed to export batch code: 401, reason: \n",
      "Failed to export batch code: 401, reason: \n",
      "Failed to export batch code: 401, reason: \n",
      "Failed to export batch code: 401, reason: \n",
      "Failed to export batch code: 401, reason: \n",
      "Failed to export batch code: 401, reason: \n",
      "Failed to export batch code: 401, reason: \n",
      "Failed to export batch code: 401, reason: \n"
     ]
    },
    {
     "name": "stdout",
     "output_type": "stream",
     "text": [
      "\u001b[32;1m\u001b[1;3mI'd be happy to help you compare the premium version of our products with the regular ones. Could you please provide me with the product IDs or names for both the premium and regular versions you are interested in?\u001b[0m\n",
      "\n",
      "\u001b[1m> Finished chain.\u001b[0m\n",
      "\n",
      "\n",
      "\u001b[1m> Entering new AgentExecutor chain...\u001b[0m\n"
     ]
    },
    {
     "name": "stderr",
     "output_type": "stream",
     "text": [
      "Failed to export batch code: 401, reason: \n",
      "Failed to export batch code: 401, reason: \n",
      "Failed to export batch code: 401, reason: \n",
      "Failed to export batch code: 401, reason: \n",
      "Failed to export batch code: 401, reason: \n",
      "Failed to export batch code: 401, reason: \n",
      "Failed to export batch code: 401, reason: \n",
      "Failed to export batch code: 401, reason: \n"
     ]
    },
    {
     "name": "stdout",
     "output_type": "stream",
     "text": [
      "\u001b[32;1m\u001b[1;3mTo assist you with the details of the product you purchased, I'll need the unique identifier or product ID associated with the Vizio 14Y TV or any other model you're considering. Could you please provide that product ID or any information to narrow it down? If you don't have it, you can describe the product or its features further, and I'll try to assist you that way.\u001b[0m\n",
      "\n",
      "\u001b[1m> Finished chain.\u001b[0m\n",
      "\n",
      "\n",
      "\u001b[1m> Entering new AgentExecutor chain...\u001b[0m\n"
     ]
    },
    {
     "name": "stderr",
     "output_type": "stream",
     "text": [
      "Failed to export batch code: 401, reason: \n",
      "Failed to export batch code: 401, reason: \n",
      "Failed to export batch code: 401, reason: \n",
      "Failed to export batch code: 401, reason: \n",
      "Failed to export batch code: 401, reason: \n",
      "Failed to export batch code: 401, reason: \n",
      "Failed to export batch code: 401, reason: \n",
      "Failed to export batch code: 401, reason: \n"
     ]
    },
    {
     "name": "stdout",
     "output_type": "stream",
     "text": [
      "\u001b[32;1m\u001b[1;3mTo assist you with the status of your order, I'll need the tracking number associated with your order for the iPhone 16H. Could you please provide that?\u001b[0m\n",
      "\n",
      "\u001b[1m> Finished chain.\u001b[0m\n",
      "\n",
      "\n",
      "\u001b[1m> Entering new AgentExecutor chain...\u001b[0m\n"
     ]
    },
    {
     "name": "stderr",
     "output_type": "stream",
     "text": [
      "Failed to export batch code: 401, reason: \n",
      "Failed to export batch code: 401, reason: \n",
      "Failed to export batch code: 401, reason: \n",
      "Failed to export batch code: 401, reason: \n",
      "Failed to export batch code: 401, reason: \n",
      "Failed to export batch code: 401, reason: \n",
      "Failed to export batch code: 401, reason: \n",
      "Failed to export batch code: 401, reason: \n"
     ]
    },
    {
     "name": "stdout",
     "output_type": "stream",
     "text": [
      "\u001b[32;1m\u001b[1;3m\n",
      "Invoking: `product_search` with `{'query': 'Samsung 106i smartphone'}`\n",
      "\n",
      "\n",
      "\u001b[0m\u001b[33;1m\u001b[1;3m{'results': [], 'pagination': {'total': 0, 'page': 1, 'page_size': 20}}\u001b[0m"
     ]
    },
    {
     "name": "stderr",
     "output_type": "stream",
     "text": [
      "Failed to export batch code: 401, reason: \n",
      "Failed to export batch code: 401, reason: \n",
      "Failed to export batch code: 401, reason: \n",
      "Failed to export batch code: 401, reason: \n",
      "Failed to export batch code: 401, reason: \n",
      "Failed to export batch code: 401, reason: \n",
      "Failed to export batch code: 401, reason: \n",
      "Failed to export batch code: 401, reason: \n"
     ]
    },
    {
     "name": "stdout",
     "output_type": "stream",
     "text": [
      "\u001b[32;1m\u001b[1;3mI couldn't find specific warranty information for the Samsung 106i smartphone in our system. For details on the warranty, you might want to check the documentation that came with your purchase, visit Samsung's official website, or contact the retailer where you bought the phone. If you need further assistance, please let me know!\u001b[0m\n",
      "\n",
      "\u001b[1m> Finished chain.\u001b[0m\n",
      "\n",
      "\n",
      "\u001b[1m> Entering new AgentExecutor chain...\u001b[0m\n"
     ]
    },
    {
     "name": "stderr",
     "output_type": "stream",
     "text": [
      "Failed to export batch code: 401, reason: \n",
      "Failed to export batch code: 401, reason: \n",
      "Failed to export batch code: 401, reason: \n",
      "Failed to export batch code: 401, reason: \n",
      "Failed to export batch code: 401, reason: \n",
      "Failed to export batch code: 401, reason: \n",
      "Failed to export batch code: 401, reason: \n",
      "Failed to export batch code: 401, reason: \n"
     ]
    },
    {
     "name": "stdout",
     "output_type": "stream",
     "text": [
      "\u001b[32;1m\u001b[1;3mCertainly! To help you decide whether to upgrade your current product or just track its delivery status, I would need some information:\n",
      "\n",
      "1. What is the product you are considering upgrading?\n",
      "2. Do you have a particular product in mind for the upgrade, or would you like help searching for potential upgrades?\n",
      "3. Do you have the tracking number for the delivery of your current product if you want to check its status?\n",
      "\n",
      "With this information, I'll be able to assist you further in making the best decision.\u001b[0m\n",
      "\n",
      "\u001b[1m> Finished chain.\u001b[0m\n",
      "\n",
      "\n",
      "\u001b[1m> Entering new AgentExecutor chain...\u001b[0m\n"
     ]
    },
    {
     "name": "stderr",
     "output_type": "stream",
     "text": [
      "Failed to export batch code: 401, reason: \n",
      "Failed to export batch code: 401, reason: \n",
      "Failed to export batch code: 401, reason: \n",
      "Failed to export batch code: 401, reason: \n",
      "Failed to export batch code: 401, reason: \n",
      "Failed to export batch code: 401, reason: \n",
      "Failed to export batch code: 401, reason: \n",
      "Failed to export batch code: 401, reason: \n"
     ]
    },
    {
     "name": "stdout",
     "output_type": "stream",
     "text": [
      "\u001b[32;1m\u001b[1;3mI can help you with that. First, let's search for a range of smartphone options so we can explore different models, features, and price points that might suit your needs. Could you please let me know if you have any specific requirements or preferences such as brand, features, or budget range for the smartphone?\u001b[0m\n",
      "\n",
      "\u001b[1m> Finished chain.\u001b[0m\n",
      "\n",
      "\n",
      "\u001b[1m> Entering new AgentExecutor chain...\u001b[0m\n"
     ]
    },
    {
     "name": "stderr",
     "output_type": "stream",
     "text": [
      "Failed to export batch code: 401, reason: \n",
      "Failed to export batch code: 401, reason: \n",
      "Failed to export batch code: 401, reason: \n",
      "Failed to export batch code: 401, reason: \n",
      "Failed to export batch code: 401, reason: \n",
      "Failed to export batch code: 401, reason: \n",
      "Failed to export batch code: 401, reason: \n",
      "Failed to export batch code: 401, reason: \n"
     ]
    },
    {
     "name": "stdout",
     "output_type": "stream",
     "text": [
      "\u001b[32;1m\u001b[1;3mTo determine if you can apply a discount code to a past purchase, the order's unique identifier (order ID) is necessary. If you have this information, I can check whether applying a discount code is possible and assist with the process. Could you please provide the order ID?\u001b[0m\n",
      "\n",
      "\u001b[1m> Finished chain.\u001b[0m\n",
      "\n",
      "\n",
      "\u001b[1m> Entering new AgentExecutor chain...\u001b[0m\n"
     ]
    },
    {
     "name": "stderr",
     "output_type": "stream",
     "text": [
      "Failed to export batch code: 401, reason: \n",
      "Failed to export batch code: 401, reason: \n",
      "Failed to export batch code: 401, reason: \n",
      "Failed to export batch code: 401, reason: \n",
      "Failed to export batch code: 401, reason: \n",
      "Failed to export batch code: 401, reason: \n",
      "Failed to export batch code: 401, reason: \n",
      "Failed to export batch code: 401, reason: \n"
     ]
    },
    {
     "name": "stdout",
     "output_type": "stream",
     "text": [
      "\u001b[32;1m\u001b[1;3m\n",
      "Invoking: `product_search` with `{'query': 'electronics home office', 'category': 'Electronics', 'page': 1, 'page_size': 10}`\n",
      "\n",
      "\n",
      "\u001b[0m\u001b[33;1m\u001b[1;3m{'results': [], 'pagination': {'total': 0, 'page': 1, 'page_size': 20}}\u001b[0m"
     ]
    },
    {
     "name": "stderr",
     "output_type": "stream",
     "text": [
      "Failed to export batch code: 401, reason: \n",
      "Failed to export batch code: 401, reason: \n",
      "Failed to export batch code: 401, reason: \n",
      "Failed to export batch code: 401, reason: \n",
      "Failed to export batch code: 401, reason: \n",
      "Failed to export batch code: 401, reason: \n",
      "Failed to export batch code: 401, reason: \n",
      "Failed to export batch code: 401, reason: \n"
     ]
    },
    {
     "name": "stdout",
     "output_type": "stream",
     "text": [
      "\u001b[32;1m\u001b[1;3mIt seems there are no specific search results available for electronics suitable for a home office setup at this moment. However, a typical home office electronic setup may include:\n",
      "\n",
      "1. **Computer or Laptop**: Essential for all your tasks, emails, and meetings.\n",
      "2. **Monitor**: A larger display to boost productivity and make multitasking easier.\n",
      "3. **Printer/Scanner**: For printing, scanning, and copying documents.\n",
      "4. **Keyboard and Mouse**: Ergonomic options can make long working hours more comfortable.\n",
      "5. **Webcam**: For video conferences and virtual meetings.\n",
      "6. **Headphones or Speakers**: To attend online meetings or listen to music while working.\n",
      "7. **Wireless Router**: For a fast and reliable internet connection.\n",
      "8. **Uninterruptible Power Supply (UPS)**: To safeguard against power surges and outages.\n",
      "\n",
      "If you have specific brands or specs in mind, let me know, and we can try another search!\u001b[0m\n",
      "\n",
      "\u001b[1m> Finished chain.\u001b[0m\n",
      "\n",
      "\n",
      "\u001b[1m> Entering new AgentExecutor chain...\u001b[0m\n"
     ]
    },
    {
     "name": "stderr",
     "output_type": "stream",
     "text": [
      "Failed to export batch code: 401, reason: \n",
      "Failed to export batch code: 401, reason: \n",
      "Failed to export batch code: 401, reason: \n",
      "Failed to export batch code: 401, reason: \n",
      "Failed to export batch code: 401, reason: \n",
      "Failed to export batch code: 401, reason: \n",
      "Failed to export batch code: 401, reason: \n",
      "Failed to export batch code: 401, reason: \n"
     ]
    },
    {
     "name": "stdout",
     "output_type": "stream",
     "text": [
      "\u001b[32;1m\u001b[1;3mTo assist you in understanding the differences between our regular and premium product lines, I can perform a product search to find examples of both types and then provide a detailed comparison of their features.\n",
      "\n",
      "Let's start by searching for two similar products: one from the regular line and the other from the premium line. Then, I'll compare their features for you. Could you please provide more specific information about what type of products you're interested in (e.g., electronics, clothing, etc.) so I can find the most relevant examples?\u001b[0m\n",
      "\n",
      "\u001b[1m> Finished chain.\u001b[0m\n",
      "\n",
      "\n",
      "\u001b[1m> Entering new AgentExecutor chain...\u001b[0m\n"
     ]
    },
    {
     "name": "stderr",
     "output_type": "stream",
     "text": [
      "Failed to export batch code: 401, reason: \n",
      "Failed to export batch code: 401, reason: \n",
      "Failed to export batch code: 401, reason: \n",
      "Failed to export batch code: 401, reason: \n",
      "Failed to export batch code: 401, reason: \n",
      "Failed to export batch code: 401, reason: \n",
      "Failed to export batch code: 401, reason: \n",
      "Failed to export batch code: 401, reason: \n"
     ]
    },
    {
     "name": "stdout",
     "output_type": "stream",
     "text": [
      "\u001b[32;1m\u001b[1;3mTo give you the best advice, let's first check the status of your package using the tracking number, which might help determine whether it is still in transit or if there might be any issues. If there are significant delays or problems, then proceeding with a refund might be a better choice.\n",
      "\n",
      "Could you please provide the tracking number for your Vizio 14Y TV shipment?\u001b[0m\n",
      "\n",
      "\u001b[1m> Finished chain.\u001b[0m\n",
      "\n",
      "\n",
      "\u001b[1m> Entering new AgentExecutor chain...\u001b[0m\n"
     ]
    },
    {
     "name": "stderr",
     "output_type": "stream",
     "text": [
      "Failed to export batch code: 401, reason: \n",
      "Failed to export batch code: 401, reason: \n",
      "Failed to export batch code: 401, reason: \n",
      "Failed to export batch code: 401, reason: \n",
      "Failed to export batch code: 401, reason: \n",
      "Failed to export batch code: 401, reason: \n",
      "Failed to export batch code: 401, reason: \n",
      "Failed to export batch code: 401, reason: \n"
     ]
    },
    {
     "name": "stdout",
     "output_type": "stream",
     "text": [
      "\u001b[32;1m\u001b[1;3mI can assist you with both order-related issues and general product inquiries. Could you please specify what kind of help you need? If it's related to an order, let me know the details of the issue. If you have a general query about our products, please let me know what you'd like to know.\u001b[0m\n",
      "\n",
      "\u001b[1m> Finished chain.\u001b[0m\n",
      "\n",
      "\n",
      "\u001b[1m> Entering new AgentExecutor chain...\u001b[0m\n"
     ]
    },
    {
     "name": "stderr",
     "output_type": "stream",
     "text": [
      "Failed to export batch code: 401, reason: \n",
      "Failed to export batch code: 401, reason: \n",
      "Failed to export batch code: 401, reason: \n",
      "Failed to export batch code: 401, reason: \n",
      "Failed to export batch code: 401, reason: \n",
      "Failed to export batch code: 401, reason: \n",
      "Failed to export batch code: 401, reason: \n",
      "Failed to export batch code: 401, reason: \n"
     ]
    },
    {
     "name": "stdout",
     "output_type": "stream",
     "text": [
      "\u001b[32;1m\u001b[1;3mCertainly! If you're unsure of the product you ordered, we can track down details using your order information, such as the order ID. Could you provide me with your order ID or any other relevant details? This will help us identify the product.\u001b[0m\n",
      "\n",
      "\u001b[1m> Finished chain.\u001b[0m\n",
      "\n",
      "\n",
      "\u001b[1m> Entering new AgentExecutor chain...\u001b[0m\n"
     ]
    },
    {
     "name": "stderr",
     "output_type": "stream",
     "text": [
      "Failed to export batch code: 401, reason: \n",
      "Failed to export batch code: 401, reason: \n",
      "Failed to export batch code: 401, reason: \n",
      "Failed to export batch code: 401, reason: \n",
      "Failed to export batch code: 401, reason: \n",
      "Failed to export batch code: 401, reason: \n",
      "Failed to export batch code: 401, reason: \n",
      "Failed to export batch code: 401, reason: \n"
     ]
    },
    {
     "name": "stdout",
     "output_type": "stream",
     "text": [
      "\u001b[32;1m\u001b[1;3m\n",
      "Invoking: `product_search` with `{'query': 'high-end smartphone', 'page_size': 5}`\n",
      "\n",
      "\n",
      "\u001b[0m\u001b[33;1m\u001b[1;3m{'results': [], 'pagination': {'total': 0, 'page': 1, 'page_size': 20}}\u001b[0m"
     ]
    },
    {
     "name": "stderr",
     "output_type": "stream",
     "text": [
      "Failed to export batch code: 401, reason: \n",
      "Failed to export batch code: 401, reason: \n",
      "Failed to export batch code: 401, reason: \n",
      "Failed to export batch code: 401, reason: \n",
      "Failed to export batch code: 401, reason: \n",
      "Failed to export batch code: 401, reason: \n",
      "Failed to export batch code: 401, reason: \n",
      "Failed to export batch code: 401, reason: \n"
     ]
    },
    {
     "name": "stdout",
     "output_type": "stream",
     "text": [
      "\u001b[32;1m\u001b[1;3mIt seems that there are currently no high-end smartphone deals listed at the moment. If you have a specific model or brand in mind, I can try searching or comparing those for you. Let me know if there's anything else specific you're looking for!\u001b[0m\n",
      "\n",
      "\u001b[1m> Finished chain.\u001b[0m\n",
      "\n",
      "\n",
      "\u001b[1m> Entering new AgentExecutor chain...\u001b[0m\n"
     ]
    },
    {
     "name": "stderr",
     "output_type": "stream",
     "text": [
      "Failed to export batch code: 401, reason: \n",
      "Failed to export batch code: 401, reason: \n",
      "Failed to export batch code: 401, reason: \n",
      "Failed to export batch code: 401, reason: \n",
      "Failed to export batch code: 401, reason: \n",
      "Failed to export batch code: 401, reason: \n",
      "Failed to export batch code: 401, reason: \n"
     ]
    },
    {
     "name": "stdout",
     "output_type": "stream",
     "text": [
      "\u001b[32;1m\u001b[1;3mOf course, I can help with that. Here are a few steps we can take to assist in your decision:\n",
      "\n",
      "1. **Upgrade Consideration**: If you're thinking about upgrading, we can compare the features of your current product with a potential upgrade to see if it's worth it.\n",
      "\n",
      "2. **Track Shipping Status**: If you'd like to know where your current product is and when it will arrive, I can help track its shipping status.\n",
      "\n",
      "Please let me know the product ID of your current item and, if applicable, the product ID of the potential upgrade you are considering. Additionally, provide your tracking number if you'd like to check the shipping status.\u001b[0m\n",
      "\n",
      "\u001b[1m> Finished chain.\u001b[0m\n"
     ]
    }
   ],
   "source": [
    "questions_df[\"response\"] = questions_df[\"questions\"].apply(\n",
    "    lambda x: agent_executor.invoke({\"input\": x})\n",
    ")"
   ]
  },
  {
   "cell_type": "code",
   "execution_count": 13,
   "metadata": {
    "id": "xS3HPR4sPY-J"
   },
   "outputs": [
    {
     "data": {
      "text/html": [
       "<div>\n",
       "<style scoped>\n",
       "    .dataframe tbody tr th:only-of-type {\n",
       "        vertical-align: middle;\n",
       "    }\n",
       "\n",
       "    .dataframe tbody tr th {\n",
       "        vertical-align: top;\n",
       "    }\n",
       "\n",
       "    .dataframe thead th {\n",
       "        text-align: right;\n",
       "    }\n",
       "</style>\n",
       "<table border=\"1\" class=\"dataframe\">\n",
       "  <thead>\n",
       "    <tr style=\"text-align: right;\">\n",
       "      <th></th>\n",
       "      <th>questions</th>\n",
       "      <th>response</th>\n",
       "    </tr>\n",
       "  </thead>\n",
       "  <tbody>\n",
       "    <tr>\n",
       "      <th>0</th>\n",
       "      <td>I'm trying to find out if the Samsung 106i sma...</td>\n",
       "      <td>{'input': 'I'm trying to find out if the Samsu...</td>\n",
       "    </tr>\n",
       "    <tr>\n",
       "      <th>1</th>\n",
       "      <td>Could you help me understand the differences b...</td>\n",
       "      <td>{'input': 'Could you help me understand the di...</td>\n",
       "    </tr>\n",
       "    <tr>\n",
       "      <th>2</th>\n",
       "      <td>I was wondering if there's a way to apply a di...</td>\n",
       "      <td>{'input': 'I was wondering if there's a way to...</td>\n",
       "    </tr>\n",
       "    <tr>\n",
       "      <th>3</th>\n",
       "      <td>I need assistance with a product I ordered a w...</td>\n",
       "      <td>{'input': 'I need assistance with a product I ...</td>\n",
       "    </tr>\n",
       "    <tr>\n",
       "      <th>4</th>\n",
       "      <td>Could you tell me if there are any current dea...</td>\n",
       "      <td>{'input': 'Could you tell me if there are any ...</td>\n",
       "    </tr>\n",
       "    <tr>\n",
       "      <th>5</th>\n",
       "      <td>I'm not sure if I should be looking for a refu...</td>\n",
       "      <td>{'input': 'I'm not sure if I should be looking...</td>\n",
       "    </tr>\n",
       "    <tr>\n",
       "      <th>6</th>\n",
       "      <td>Perhaps you could help me figure out if the pr...</td>\n",
       "      <td>{'input': 'Perhaps you could help me figure ou...</td>\n",
       "    </tr>\n",
       "    <tr>\n",
       "      <th>7</th>\n",
       "      <td>I recently bought a product, but I'm not sure ...</td>\n",
       "      <td>{'input': 'I recently bought a product, but I'...</td>\n",
       "    </tr>\n",
       "    <tr>\n",
       "      <th>8</th>\n",
       "      <td>Could you assist me in finding out if my order...</td>\n",
       "      <td>{'input': 'Could you assist me in finding out ...</td>\n",
       "    </tr>\n",
       "    <tr>\n",
       "      <th>9</th>\n",
       "      <td>I was wondering if you might have any informat...</td>\n",
       "      <td>{'input': 'I was wondering if you might have a...</td>\n",
       "    </tr>\n",
       "    <tr>\n",
       "      <th>10</th>\n",
       "      <td>Could you help me decide whether to upgrade my...</td>\n",
       "      <td>{'input': 'Could you help me decide whether to...</td>\n",
       "    </tr>\n",
       "    <tr>\n",
       "      <th>11</th>\n",
       "      <td>I'm looking for a new smartphone, but I'm not ...</td>\n",
       "      <td>{'input': 'I'm looking for a new smartphone, b...</td>\n",
       "    </tr>\n",
       "    <tr>\n",
       "      <th>12</th>\n",
       "      <td>I need to know if there's a way to apply a dis...</td>\n",
       "      <td>{'input': 'I need to know if there's a way to ...</td>\n",
       "    </tr>\n",
       "    <tr>\n",
       "      <th>13</th>\n",
       "      <td>Could you tell me about your range of electron...</td>\n",
       "      <td>{'input': 'Could you tell me about your range ...</td>\n",
       "    </tr>\n",
       "    <tr>\n",
       "      <th>14</th>\n",
       "      <td>I was wondering if you could assist me in unde...</td>\n",
       "      <td>{'input': 'I was wondering if you could assist...</td>\n",
       "    </tr>\n",
       "    <tr>\n",
       "      <th>15</th>\n",
       "      <td>I'm not sure if I should ask for a refund on m...</td>\n",
       "      <td>{'input': 'I'm not sure if I should ask for a ...</td>\n",
       "    </tr>\n",
       "    <tr>\n",
       "      <th>16</th>\n",
       "      <td>Could you help me with a problem I have with a...</td>\n",
       "      <td>{'input': 'Could you help me with a problem I ...</td>\n",
       "    </tr>\n",
       "    <tr>\n",
       "      <th>17</th>\n",
       "      <td>I need help with a product I ordered, but I'm ...</td>\n",
       "      <td>{'input': 'I need help with a product I ordere...</td>\n",
       "    </tr>\n",
       "    <tr>\n",
       "      <th>18</th>\n",
       "      <td>Perhaps you could help me understand if there ...</td>\n",
       "      <td>{'input': 'Perhaps you could help me understan...</td>\n",
       "    </tr>\n",
       "    <tr>\n",
       "      <th>19</th>\n",
       "      <td>I'm trying to decide if I should upgrade my cu...</td>\n",
       "      <td>{'input': 'I'm trying to decide if I should up...</td>\n",
       "    </tr>\n",
       "  </tbody>\n",
       "</table>\n",
       "</div>"
      ],
      "text/plain": [
       "                                            questions  \\\n",
       "0   I'm trying to find out if the Samsung 106i sma...   \n",
       "1   Could you help me understand the differences b...   \n",
       "2   I was wondering if there's a way to apply a di...   \n",
       "3   I need assistance with a product I ordered a w...   \n",
       "4   Could you tell me if there are any current dea...   \n",
       "5   I'm not sure if I should be looking for a refu...   \n",
       "6   Perhaps you could help me figure out if the pr...   \n",
       "7   I recently bought a product, but I'm not sure ...   \n",
       "8   Could you assist me in finding out if my order...   \n",
       "9   I was wondering if you might have any informat...   \n",
       "10  Could you help me decide whether to upgrade my...   \n",
       "11  I'm looking for a new smartphone, but I'm not ...   \n",
       "12  I need to know if there's a way to apply a dis...   \n",
       "13  Could you tell me about your range of electron...   \n",
       "14  I was wondering if you could assist me in unde...   \n",
       "15  I'm not sure if I should ask for a refund on m...   \n",
       "16  Could you help me with a problem I have with a...   \n",
       "17  I need help with a product I ordered, but I'm ...   \n",
       "18  Perhaps you could help me understand if there ...   \n",
       "19  I'm trying to decide if I should upgrade my cu...   \n",
       "\n",
       "                                             response  \n",
       "0   {'input': 'I'm trying to find out if the Samsu...  \n",
       "1   {'input': 'Could you help me understand the di...  \n",
       "2   {'input': 'I was wondering if there's a way to...  \n",
       "3   {'input': 'I need assistance with a product I ...  \n",
       "4   {'input': 'Could you tell me if there are any ...  \n",
       "5   {'input': 'I'm not sure if I should be looking...  \n",
       "6   {'input': 'Perhaps you could help me figure ou...  \n",
       "7   {'input': 'I recently bought a product, but I'...  \n",
       "8   {'input': 'Could you assist me in finding out ...  \n",
       "9   {'input': 'I was wondering if you might have a...  \n",
       "10  {'input': 'Could you help me decide whether to...  \n",
       "11  {'input': 'I'm looking for a new smartphone, b...  \n",
       "12  {'input': 'I need to know if there's a way to ...  \n",
       "13  {'input': 'Could you tell me about your range ...  \n",
       "14  {'input': 'I was wondering if you could assist...  \n",
       "15  {'input': 'I'm not sure if I should ask for a ...  \n",
       "16  {'input': 'Could you help me with a problem I ...  \n",
       "17  {'input': 'I need help with a product I ordere...  \n",
       "18  {'input': 'Perhaps you could help me understan...  \n",
       "19  {'input': 'I'm trying to decide if I should up...  "
      ]
     },
     "execution_count": 13,
     "metadata": {},
     "output_type": "execute_result"
    }
   ],
   "source": [
    "questions_df"
   ]
  },
  {
   "cell_type": "markdown",
   "metadata": {
    "id": "qcD7yrdq9xio"
   },
   "source": [
    "# Evaluate Tool Calls\n",
    "\n",
    "Now that we have some example runs of our agent to analyze, we can start the evaluation process. We'll start by exporting all of those spans from Phoenix"
   ]
  },
  {
   "cell_type": "code",
   "execution_count": 14,
   "metadata": {
    "id": "o4ehVNIx90RJ"
   },
   "outputs": [],
   "source": [
    "from phoenix.trace import SpanEvaluations\n",
    "from phoenix.trace.dsl import SpanQuery"
   ]
  },
  {
   "cell_type": "markdown",
   "metadata": {
    "id": "uZDxeXUfwku-"
   },
   "source": [
    "Since we'll only be evaluating the inputs, outputs, and function call columns, let's extract those into an easier to use df. Helpfully, Phoenix provides a method to query your span data and directly export only the values you care about."
   ]
  },
  {
   "cell_type": "code",
   "execution_count": 15,
   "metadata": {
    "id": "JXuodhcq90RT"
   },
   "outputs": [
    {
     "name": "stderr",
     "output_type": "stream",
     "text": [
      "/Users/thongbuiwork/.pyenv/versions/3.11.4/envs/phoenix-eval/lib/python3.11/site-packages/phoenix/utilities/client.py:40: UserWarning: The Phoenix server has an unknown version and may have compatibility issues.\n",
      "  warnings.warn(\n"
     ]
    },
    {
     "ename": "HTTPStatusError",
     "evalue": "Client error '401 Unauthorized' for url 'https://app.phoenix.arize.com/v1/spans?project_name=Tool+Calling+Eval&project-name=Tool+Calling+Eval'\nFor more information check: https://developer.mozilla.org/en-US/docs/Web/HTTP/Status/401",
     "output_type": "error",
     "traceback": [
      "\u001b[31m---------------------------------------------------------------------------\u001b[39m",
      "\u001b[31mHTTPStatusError\u001b[39m                           Traceback (most recent call last)",
      "\u001b[36mCell\u001b[39m\u001b[36m \u001b[39m\u001b[32mIn[15]\u001b[39m\u001b[32m, line 14\u001b[39m\n\u001b[32m      1\u001b[39m query = (\n\u001b[32m      2\u001b[39m     SpanQuery()\n\u001b[32m      3\u001b[39m     .where(\n\u001b[32m   (...)\u001b[39m\u001b[32m     12\u001b[39m     )\n\u001b[32m     13\u001b[39m )\n\u001b[32m---> \u001b[39m\u001b[32m14\u001b[39m trace_df = \u001b[43mpx\u001b[49m\u001b[43m.\u001b[49m\u001b[43mClient\u001b[49m\u001b[43m(\u001b[49m\u001b[43m)\u001b[49m\u001b[43m.\u001b[49m\u001b[43mquery_spans\u001b[49m\u001b[43m(\u001b[49m\u001b[43mquery\u001b[49m\u001b[43m,\u001b[49m\u001b[43m \u001b[49m\u001b[43mproject_name\u001b[49m\u001b[43m=\u001b[49m\u001b[33;43m\"\u001b[39;49m\u001b[33;43mTool Calling Eval\u001b[39;49m\u001b[33;43m\"\u001b[39;49m\u001b[43m)\u001b[49m\n\u001b[32m     15\u001b[39m \u001b[38;5;66;03m# trace_df[\"tool_call\"] = trace_df[\"tool_call\"].fillna(\"No tool used\")\u001b[39;00m\n",
      "\u001b[36mFile \u001b[39m\u001b[32m~/.pyenv/versions/3.11.4/envs/phoenix-eval/lib/python3.11/site-packages/phoenix/session/client.py:189\u001b[39m, in \u001b[36mClient.query_spans\u001b[39m\u001b[34m(self, start_time, end_time, limit, root_spans_only, project_name, stop_time, timeout, *queries)\u001b[39m\n\u001b[32m    187\u001b[39m \u001b[38;5;28;01melif\u001b[39;00m response.status_code == \u001b[32m422\u001b[39m:\n\u001b[32m    188\u001b[39m     \u001b[38;5;28;01mraise\u001b[39;00m \u001b[38;5;167;01mValueError\u001b[39;00m(response.content.decode())\n\u001b[32m--> \u001b[39m\u001b[32m189\u001b[39m \u001b[43mresponse\u001b[49m\u001b[43m.\u001b[49m\u001b[43mraise_for_status\u001b[49m\u001b[43m(\u001b[49m\u001b[43m)\u001b[49m\n\u001b[32m    190\u001b[39m results = []\n\u001b[32m    191\u001b[39m content_type = response.headers.get(\u001b[33m\"\u001b[39m\u001b[33mContent-Type\u001b[39m\u001b[33m\"\u001b[39m)\n",
      "\u001b[36mFile \u001b[39m\u001b[32m~/.pyenv/versions/3.11.4/envs/phoenix-eval/lib/python3.11/site-packages/httpx/_models.py:829\u001b[39m, in \u001b[36mResponse.raise_for_status\u001b[39m\u001b[34m(self)\u001b[39m\n\u001b[32m    827\u001b[39m error_type = error_types.get(status_class, \u001b[33m\"\u001b[39m\u001b[33mInvalid status code\u001b[39m\u001b[33m\"\u001b[39m)\n\u001b[32m    828\u001b[39m message = message.format(\u001b[38;5;28mself\u001b[39m, error_type=error_type)\n\u001b[32m--> \u001b[39m\u001b[32m829\u001b[39m \u001b[38;5;28;01mraise\u001b[39;00m HTTPStatusError(message, request=request, response=\u001b[38;5;28mself\u001b[39m)\n",
      "\u001b[31mHTTPStatusError\u001b[39m: Client error '401 Unauthorized' for url 'https://app.phoenix.arize.com/v1/spans?project_name=Tool+Calling+Eval&project-name=Tool+Calling+Eval'\nFor more information check: https://developer.mozilla.org/en-US/docs/Web/HTTP/Status/401"
     ]
    }
   ],
   "source": [
    "query = (\n",
    "    SpanQuery()\n",
    "    .where(\n",
    "        # Filter for the `LLM` span kind.\n",
    "        # The filter condition is a string of valid Python boolean expression.\n",
    "        \"span_kind == 'LLM'\",\n",
    "    )\n",
    "    .select(\n",
    "        # Extract and rename the following span attributes\n",
    "        question=\"llm.input_messages\",\n",
    "        outputs=\"llm.output_messages\",\n",
    "    )\n",
    ")\n",
    "trace_df = px.Client().query_spans(query, project_name=\"Tool Calling Eval\")\n",
    "# trace_df[\"tool_call\"] = trace_df[\"tool_call\"].fillna(\"No tool used\")"
   ]
  },
  {
   "cell_type": "code",
   "execution_count": null,
   "metadata": {
    "id": "KOk2wL39wku-"
   },
   "outputs": [],
   "source": [
    "def get_tool_call(outputs):\n",
    "    if outputs[0].get(\"message\").get(\"tool_calls\"):\n",
    "        return (\n",
    "            outputs[0]\n",
    "            .get(\"message\")\n",
    "            .get(\"tool_calls\")[0]\n",
    "            .get(\"tool_call\")\n",
    "            .get(\"function\")\n",
    "            .get(\"name\")\n",
    "        )\n",
    "    else:\n",
    "        return \"No tool used\"\n",
    "\n",
    "\n",
    "trace_df[\"tool_call\"] = trace_df[\"outputs\"].apply(get_tool_call)"
   ]
  },
  {
   "cell_type": "markdown",
   "metadata": {
    "id": "Lxm5M32ywku-"
   },
   "source": [
    "We'll also need to pass in our tool definitions to the evaluator:"
   ]
  },
  {
   "cell_type": "code",
   "execution_count": null,
   "metadata": {
    "id": "LrIWc6fDwku_"
   },
   "outputs": [],
   "source": [
    "tool_definitions = \"\"\n",
    "\n",
    "for current_tool in tools:\n",
    "    tool_definitions += f\"\"\"\n",
    "    {current_tool.name}: {current_tool.description}\n",
    "    \"\"\"\n",
    "\n",
    "print(tool_definitions)"
   ]
  },
  {
   "cell_type": "markdown",
   "metadata": {
    "id": "n4zXs-nywku_"
   },
   "source": [
    "Next, we define the evaluator model to use"
   ]
  },
  {
   "cell_type": "code",
   "execution_count": null,
   "metadata": {
    "id": "ArTkQ7UHwku_"
   },
   "outputs": [],
   "source": [
    "trace_df[\"tool_definitions\"] = tool_definitions"
   ]
  },
  {
   "cell_type": "code",
   "execution_count": null,
   "metadata": {
    "id": "bgaGKUsj90RU"
   },
   "outputs": [],
   "source": [
    "eval_model = OpenAIModel(model=\"gpt-4o\")"
   ]
  },
  {
   "cell_type": "markdown",
   "metadata": {
    "id": "wHXtSqA7wku_"
   },
   "source": [
    "And we're ready to call our evaluator! The method below takes in the dataframe of traces to evaluate, our built in evaluation prompt, the eval model to use, and a rails object to snap responses from our model to a set of binary classification responses.\n",
    "\n",
    "We'll also instruct our model to provide explanations for its responses."
   ]
  },
  {
   "cell_type": "code",
   "execution_count": null,
   "metadata": {
    "id": "GvtW9NGK90RU"
   },
   "outputs": [],
   "source": [
    "rails = list(TOOL_CALLING_PROMPT_RAILS_MAP.values())\n",
    "\n",
    "response_classifications = llm_classify(\n",
    "    dataframe=trace_df,\n",
    "    template=TOOL_CALLING_PROMPT_TEMPLATE,\n",
    "    model=eval_model,\n",
    "    rails=rails,\n",
    "    provide_explanation=True,\n",
    ")\n",
    "response_classifications[\"score\"] = response_classifications.apply(\n",
    "    lambda x: 1 if x[\"label\"] == \"correct\" else 0, axis=1\n",
    ")"
   ]
  },
  {
   "cell_type": "code",
   "execution_count": null,
   "metadata": {
    "id": "pf2OkgnCLwT-"
   },
   "outputs": [],
   "source": [
    "response_classifications"
   ]
  },
  {
   "cell_type": "markdown",
   "metadata": {
    "id": "wOk79aXAwku_"
   },
   "source": [
    "Finally, we'll export these responses back into Phoenix to view them in the UI."
   ]
  },
  {
   "cell_type": "code",
   "execution_count": null,
   "metadata": {
    "id": "_A5LWDzd90RU"
   },
   "outputs": [],
   "source": [
    "px.Client().log_evaluations(\n",
    "    SpanEvaluations(eval_name=\"Tool Calling Eval\", dataframe=response_classifications),\n",
    ")"
   ]
  },
  {
   "cell_type": "markdown",
   "metadata": {
    "id": "VJ8sNn2_wku_"
   },
   "source": [
    "From here, you could iterate on different agent logic and prompts to improve performance, or you could further decompose the evaluation into individual steps looking first at Routing, then Parameter Extraction, then Code Generation to determine where to focus.\n",
    "\n",
    "![Tool Calling Evaluation Results](https://storage.googleapis.com/arize-phoenix-assets/assets/images/tool-calling-nb-result.png)\n",
    "\n",
    "Happy building!"
   ]
  }
 ],
 "metadata": {
  "colab": {
   "collapsed_sections": [
    "qcD7yrdq9xio",
    "m5_aA0tMJjN8",
    "CpYA4ZCIGHvu"
   ],
   "provenance": []
  },
  "kernelspec": {
   "display_name": "Python 3 (ipykernel)",
   "language": "python",
   "name": "python3"
  },
  "language_info": {
   "codemirror_mode": {
    "name": "ipython",
    "version": 3
   },
   "file_extension": ".py",
   "mimetype": "text/x-python",
   "name": "python",
   "nbconvert_exporter": "python",
   "pygments_lexer": "ipython3",
   "version": "3.11.4"
  }
 },
 "nbformat": 4,
 "nbformat_minor": 4
}
